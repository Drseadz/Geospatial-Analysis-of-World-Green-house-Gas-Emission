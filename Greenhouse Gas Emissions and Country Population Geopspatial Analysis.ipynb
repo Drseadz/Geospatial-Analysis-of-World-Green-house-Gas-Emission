{
 "cells": [
  {
   "cell_type": "markdown",
   "metadata": {},
   "source": [
    "<h1> GEOSPATIAL ANALYSIS OF GREENHOUSE GAS EMISSION AND POPULATION ACROSS DIFFERENT CONTINENTS</h1> "
   ]
  },
  {
   "cell_type": "markdown",
   "metadata": {},
   "source": [
    "**OBJECTIVES**\n",
    "\n",
    "- To analyse the geospatial data and answer specific questions based on the data.\n",
    "- To plot maps according to the specified conditions applicable on the given geospatial data\n",
    "- To appreciate the role of maps particularly choropleth maps in revealing the themes associated with the geospatial data.\n"
   ]
  },
  {
   "cell_type": "markdown",
   "metadata": {},
   "source": [
    "<div class=\"alert alert-block alert-info\">\n",
    "    \n",
    " <span style='font-family:Georgia'>**Application of Python-based geospatial visualisation tool**\n",
    "</div>"
   ]
  },
  {
   "cell_type": "code",
   "execution_count": 1,
   "metadata": {},
   "outputs": [],
   "source": [
    "#importing needed libraries\n",
    "import geopandas as gpd\n",
    "import pandas as pd\n",
    "import matplotlib.pyplot as plt\n",
    "import seaborn as sns"
   ]
  },
  {
   "cell_type": "code",
   "execution_count": 2,
   "metadata": {},
   "outputs": [
    {
     "data": {
      "text/html": [
       "<div>\n",
       "<style scoped>\n",
       "    .dataframe tbody tr th:only-of-type {\n",
       "        vertical-align: middle;\n",
       "    }\n",
       "\n",
       "    .dataframe tbody tr th {\n",
       "        vertical-align: top;\n",
       "    }\n",
       "\n",
       "    .dataframe thead th {\n",
       "        text-align: right;\n",
       "    }\n",
       "</style>\n",
       "<table border=\"1\" class=\"dataframe\">\n",
       "  <thead>\n",
       "    <tr style=\"text-align: right;\">\n",
       "      <th></th>\n",
       "      <th>Country Name</th>\n",
       "      <th>Country Code</th>\n",
       "      <th>Indicator Name</th>\n",
       "      <th>Indicator Code</th>\n",
       "      <th>1960</th>\n",
       "      <th>1961</th>\n",
       "      <th>1962</th>\n",
       "      <th>1963</th>\n",
       "      <th>1964</th>\n",
       "      <th>1965</th>\n",
       "      <th>...</th>\n",
       "      <th>2012</th>\n",
       "      <th>2013</th>\n",
       "      <th>2014</th>\n",
       "      <th>2015</th>\n",
       "      <th>2016</th>\n",
       "      <th>2017</th>\n",
       "      <th>2018</th>\n",
       "      <th>2019</th>\n",
       "      <th>2020</th>\n",
       "      <th>Unnamed: 65</th>\n",
       "    </tr>\n",
       "  </thead>\n",
       "  <tbody>\n",
       "    <tr>\n",
       "      <th>0</th>\n",
       "      <td>Aruba</td>\n",
       "      <td>ABW</td>\n",
       "      <td>Total greenhouse gas emissions (kt of CO2 equi...</td>\n",
       "      <td>EN.ATM.GHGT.KT.CE</td>\n",
       "      <td>NaN</td>\n",
       "      <td>NaN</td>\n",
       "      <td>NaN</td>\n",
       "      <td>NaN</td>\n",
       "      <td>NaN</td>\n",
       "      <td>NaN</td>\n",
       "      <td>...</td>\n",
       "      <td>NaN</td>\n",
       "      <td>NaN</td>\n",
       "      <td>NaN</td>\n",
       "      <td>NaN</td>\n",
       "      <td>NaN</td>\n",
       "      <td>NaN</td>\n",
       "      <td>NaN</td>\n",
       "      <td>NaN</td>\n",
       "      <td>NaN</td>\n",
       "      <td>NaN</td>\n",
       "    </tr>\n",
       "    <tr>\n",
       "      <th>1</th>\n",
       "      <td>Afghanistan</td>\n",
       "      <td>AFG</td>\n",
       "      <td>Total greenhouse gas emissions (kt of CO2 equi...</td>\n",
       "      <td>EN.ATM.GHGT.KT.CE</td>\n",
       "      <td>NaN</td>\n",
       "      <td>NaN</td>\n",
       "      <td>NaN</td>\n",
       "      <td>NaN</td>\n",
       "      <td>NaN</td>\n",
       "      <td>NaN</td>\n",
       "      <td>...</td>\n",
       "      <td>18168.860000</td>\n",
       "      <td>NaN</td>\n",
       "      <td>NaN</td>\n",
       "      <td>NaN</td>\n",
       "      <td>NaN</td>\n",
       "      <td>NaN</td>\n",
       "      <td>NaN</td>\n",
       "      <td>NaN</td>\n",
       "      <td>NaN</td>\n",
       "      <td>NaN</td>\n",
       "    </tr>\n",
       "    <tr>\n",
       "      <th>2</th>\n",
       "      <td>Angola</td>\n",
       "      <td>AGO</td>\n",
       "      <td>Total greenhouse gas emissions (kt of CO2 equi...</td>\n",
       "      <td>EN.ATM.GHGT.KT.CE</td>\n",
       "      <td>NaN</td>\n",
       "      <td>NaN</td>\n",
       "      <td>NaN</td>\n",
       "      <td>NaN</td>\n",
       "      <td>NaN</td>\n",
       "      <td>NaN</td>\n",
       "      <td>...</td>\n",
       "      <td>41657.164846</td>\n",
       "      <td>NaN</td>\n",
       "      <td>NaN</td>\n",
       "      <td>NaN</td>\n",
       "      <td>NaN</td>\n",
       "      <td>NaN</td>\n",
       "      <td>NaN</td>\n",
       "      <td>NaN</td>\n",
       "      <td>NaN</td>\n",
       "      <td>NaN</td>\n",
       "    </tr>\n",
       "  </tbody>\n",
       "</table>\n",
       "<p>3 rows × 66 columns</p>\n",
       "</div>"
      ],
      "text/plain": [
       "  Country Name Country Code  \\\n",
       "0        Aruba          ABW   \n",
       "1  Afghanistan          AFG   \n",
       "2       Angola          AGO   \n",
       "\n",
       "                                      Indicator Name     Indicator Code  1960  \\\n",
       "0  Total greenhouse gas emissions (kt of CO2 equi...  EN.ATM.GHGT.KT.CE   NaN   \n",
       "1  Total greenhouse gas emissions (kt of CO2 equi...  EN.ATM.GHGT.KT.CE   NaN   \n",
       "2  Total greenhouse gas emissions (kt of CO2 equi...  EN.ATM.GHGT.KT.CE   NaN   \n",
       "\n",
       "   1961  1962  1963  1964  1965  ...          2012  2013  2014  2015  2016  \\\n",
       "0   NaN   NaN   NaN   NaN   NaN  ...           NaN   NaN   NaN   NaN   NaN   \n",
       "1   NaN   NaN   NaN   NaN   NaN  ...  18168.860000   NaN   NaN   NaN   NaN   \n",
       "2   NaN   NaN   NaN   NaN   NaN  ...  41657.164846   NaN   NaN   NaN   NaN   \n",
       "\n",
       "   2017  2018  2019  2020  Unnamed: 65  \n",
       "0   NaN   NaN   NaN   NaN          NaN  \n",
       "1   NaN   NaN   NaN   NaN          NaN  \n",
       "2   NaN   NaN   NaN   NaN          NaN  \n",
       "\n",
       "[3 rows x 66 columns]"
      ]
     },
     "execution_count": 2,
     "metadata": {},
     "output_type": "execute_result"
    }
   ],
   "source": [
    "#Reading the Greenhouse gas emmision file and viewing the first few rows\n",
    "df = pd.read_csv('API_EN.ATM.GHGT.KT.CE_DS2_en_csv_v2_1865570.csv', skiprows=4)\n",
    "df.head(3)"
   ]
  },
  {
   "cell_type": "markdown",
   "metadata": {},
   "source": [
    "<div class=\"alert alert-block alert-info\">\n",
    "    \n",
    " <span style='font-family:Georgia'> **PRE-PROCESSING AND EXPLORATORY DATA ANALYSIS OF DATASET**\n",
    " </div>"
   ]
  },
  {
   "cell_type": "code",
   "execution_count": 3,
   "metadata": {},
   "outputs": [
    {
     "data": {
      "text/plain": [
       "(264, 66)"
      ]
     },
     "execution_count": 3,
     "metadata": {},
     "output_type": "execute_result"
    }
   ],
   "source": [
    "df.shape"
   ]
  },
  {
   "cell_type": "code",
   "execution_count": 4,
   "metadata": {},
   "outputs": [
    {
     "name": "stdout",
     "output_type": "stream",
     "text": [
      "<class 'pandas.core.frame.DataFrame'>\n",
      "RangeIndex: 264 entries, 0 to 263\n",
      "Data columns (total 66 columns):\n",
      " #   Column          Non-Null Count  Dtype  \n",
      "---  ------          --------------  -----  \n",
      " 0   Country Name    264 non-null    object \n",
      " 1   Country Code    264 non-null    object \n",
      " 2   Indicator Name  264 non-null    object \n",
      " 3   Indicator Code  264 non-null    object \n",
      " 4   1960            0 non-null      float64\n",
      " 5   1961            0 non-null      float64\n",
      " 6   1962            0 non-null      float64\n",
      " 7   1963            0 non-null      float64\n",
      " 8   1964            0 non-null      float64\n",
      " 9   1965            0 non-null      float64\n",
      " 10  1966            0 non-null      float64\n",
      " 11  1967            0 non-null      float64\n",
      " 12  1968            0 non-null      float64\n",
      " 13  1969            0 non-null      float64\n",
      " 14  1970            239 non-null    float64\n",
      " 15  1971            238 non-null    float64\n",
      " 16  1972            238 non-null    float64\n",
      " 17  1973            237 non-null    float64\n",
      " 18  1974            236 non-null    float64\n",
      " 19  1975            237 non-null    float64\n",
      " 20  1976            236 non-null    float64\n",
      " 21  1977            237 non-null    float64\n",
      " 22  1978            235 non-null    float64\n",
      " 23  1979            235 non-null    float64\n",
      " 24  1980            239 non-null    float64\n",
      " 25  1981            241 non-null    float64\n",
      " 26  1982            242 non-null    float64\n",
      " 27  1983            242 non-null    float64\n",
      " 28  1984            241 non-null    float64\n",
      " 29  1985            238 non-null    float64\n",
      " 30  1986            238 non-null    float64\n",
      " 31  1987            237 non-null    float64\n",
      " 32  1988            237 non-null    float64\n",
      " 33  1989            236 non-null    float64\n",
      " 34  1990            235 non-null    float64\n",
      " 35  1991            236 non-null    float64\n",
      " 36  1992            232 non-null    float64\n",
      " 37  1993            233 non-null    float64\n",
      " 38  1994            234 non-null    float64\n",
      " 39  1995            234 non-null    float64\n",
      " 40  1996            233 non-null    float64\n",
      " 41  1997            230 non-null    float64\n",
      " 42  1998            232 non-null    float64\n",
      " 43  1999            231 non-null    float64\n",
      " 44  2000            230 non-null    float64\n",
      " 45  2001            230 non-null    float64\n",
      " 46  2002            229 non-null    float64\n",
      " 47  2003            230 non-null    float64\n",
      " 48  2004            230 non-null    float64\n",
      " 49  2005            228 non-null    float64\n",
      " 50  2006            227 non-null    float64\n",
      " 51  2007            229 non-null    float64\n",
      " 52  2008            225 non-null    float64\n",
      " 53  2009            224 non-null    float64\n",
      " 54  2010            221 non-null    float64\n",
      " 55  2011            224 non-null    float64\n",
      " 56  2012            223 non-null    float64\n",
      " 57  2013            0 non-null      float64\n",
      " 58  2014            0 non-null      float64\n",
      " 59  2015            0 non-null      float64\n",
      " 60  2016            0 non-null      float64\n",
      " 61  2017            0 non-null      float64\n",
      " 62  2018            0 non-null      float64\n",
      " 63  2019            0 non-null      float64\n",
      " 64  2020            0 non-null      float64\n",
      " 65  Unnamed: 65     0 non-null      float64\n",
      "dtypes: float64(62), object(4)\n",
      "memory usage: 136.2+ KB\n"
     ]
    }
   ],
   "source": [
    "df.info()"
   ]
  },
  {
   "cell_type": "markdown",
   "metadata": {},
   "source": [
    "**There are 264 rows and 66 columns in the dataset.**"
   ]
  },
  {
   "cell_type": "markdown",
   "metadata": {},
   "source": [
    "<div class=\"alert alert-block alert-info\">\n",
    "    \n",
    " <span style='font-family:Georgia'>**Checking for null values**\n",
    "</div>"
   ]
  },
  {
   "cell_type": "code",
   "execution_count": 5,
   "metadata": {},
   "outputs": [
    {
     "data": {
      "text/plain": [
       "Country Name        0\n",
       "Country Code        0\n",
       "Indicator Name      0\n",
       "Indicator Code      0\n",
       "1960              264\n",
       "                 ... \n",
       "2017              264\n",
       "2018              264\n",
       "2019              264\n",
       "2020              264\n",
       "Unnamed: 65       264\n",
       "Length: 66, dtype: int64"
      ]
     },
     "execution_count": 5,
     "metadata": {},
     "output_type": "execute_result"
    }
   ],
   "source": [
    "df.isna().sum()"
   ]
  },
  {
   "cell_type": "code",
   "execution_count": 6,
   "metadata": {},
   "outputs": [
    {
     "data": {
      "text/plain": [
       "Index(['Country Name', 'Country Code', 'Indicator Name', 'Indicator Code',\n",
       "       '1960', '1961', '1962', '1963', '1964', '1965', '1966', '1967', '1968',\n",
       "       '1969', '1970', '1971', '1972', '1973', '1974', '1975', '1976', '1977',\n",
       "       '1978', '1979', '1980', '1981', '1982', '1983', '1984', '1985', '1986',\n",
       "       '1987', '1988', '1989', '1990', '1991', '1992', '1993', '1994', '1995',\n",
       "       '1996', '1997', '1998', '1999', '2000', '2001', '2002', '2003', '2004',\n",
       "       '2005', '2006', '2007', '2008', '2009', '2010', '2011', '2012', '2013',\n",
       "       '2014', '2015', '2016', '2017', '2018', '2019', '2020', 'Unnamed: 65'],\n",
       "      dtype='object')"
      ]
     },
     "execution_count": 6,
     "metadata": {},
     "output_type": "execute_result"
    }
   ],
   "source": [
    "df.columns"
   ]
  },
  {
   "cell_type": "markdown",
   "metadata": {},
   "source": [
    "<div class=\"alert alert-block alert-info\">\n",
    "    \n",
    " <span style='font-family:Georgia'>**Using heatmap to check for null values within the dataset**\n",
    "     </div>"
   ]
  },
  {
   "cell_type": "code",
   "execution_count": 7,
   "metadata": {},
   "outputs": [
    {
     "data": {
      "text/plain": [
       "<matplotlib.axes._subplots.AxesSubplot at 0x230e6aa3948>"
      ]
     },
     "execution_count": 7,
     "metadata": {},
     "output_type": "execute_result"
    },
    {
     "data": {
      "image/png": "[encoded data removed]",
      "text/plain": [
       "<Figure size 1152x288 with 1 Axes>"
      ]
     },
     "metadata": {
      "needs_background": "light"
     },
     "output_type": "display_data"
    }
   ],
   "source": [
    "plt.figure(figsize =(16, 4))\n",
    "df_map = sns.heatmap(df.isna(),yticklabels=False ,cbar= False, cmap= 'viridis')\n",
    "df_map"
   ]
  },
  {
   "cell_type": "markdown",
   "metadata": {},
   "source": [
    "The yellow colored parts are the null cells within the columns. I will drop the entirely empty or redundant columns within  the data."
   ]
  },
  {
   "cell_type": "markdown",
   "metadata": {},
   "source": [
    "<div class=\"alert alert-block alert-info\">\n",
    "    \n",
    " <span style='font-family:Georgia'>**Droping redundant columns**\n",
    "     </div>"
   ]
  },
  {
   "cell_type": "markdown",
   "metadata": {},
   "source": [
    "**The focus for analysis is years 2000 to 2010**"
   ]
  },
  {
   "cell_type": "code",
   "execution_count": 8,
   "metadata": {},
   "outputs": [
    {
     "data": {
      "text/html": [
       "<div>\n",
       "<style scoped>\n",
       "    .dataframe tbody tr th:only-of-type {\n",
       "        vertical-align: middle;\n",
       "    }\n",
       "\n",
       "    .dataframe tbody tr th {\n",
       "        vertical-align: top;\n",
       "    }\n",
       "\n",
       "    .dataframe thead th {\n",
       "        text-align: right;\n",
       "    }\n",
       "</style>\n",
       "<table border=\"1\" class=\"dataframe\">\n",
       "  <thead>\n",
       "    <tr style=\"text-align: right;\">\n",
       "      <th></th>\n",
       "      <th>Country Name</th>\n",
       "      <th>Country Code</th>\n",
       "      <th>Indicator Name</th>\n",
       "      <th>Indicator Code</th>\n",
       "      <th>2000</th>\n",
       "      <th>2001</th>\n",
       "      <th>2002</th>\n",
       "      <th>2003</th>\n",
       "      <th>2004</th>\n",
       "      <th>2005</th>\n",
       "      <th>2006</th>\n",
       "      <th>2007</th>\n",
       "      <th>2008</th>\n",
       "      <th>2009</th>\n",
       "      <th>2010</th>\n",
       "    </tr>\n",
       "  </thead>\n",
       "  <tbody>\n",
       "    <tr>\n",
       "      <th>0</th>\n",
       "      <td>Aruba</td>\n",
       "      <td>ABW</td>\n",
       "      <td>Total greenhouse gas emissions (kt of CO2 equi...</td>\n",
       "      <td>EN.ATM.GHGT.KT.CE</td>\n",
       "      <td>NaN</td>\n",
       "      <td>NaN</td>\n",
       "      <td>NaN</td>\n",
       "      <td>NaN</td>\n",
       "      <td>NaN</td>\n",
       "      <td>NaN</td>\n",
       "      <td>NaN</td>\n",
       "      <td>NaN</td>\n",
       "      <td>NaN</td>\n",
       "      <td>NaN</td>\n",
       "      <td>NaN</td>\n",
       "    </tr>\n",
       "    <tr>\n",
       "      <th>1</th>\n",
       "      <td>Afghanistan</td>\n",
       "      <td>AFG</td>\n",
       "      <td>Total greenhouse gas emissions (kt of CO2 equi...</td>\n",
       "      <td>EN.ATM.GHGT.KT.CE</td>\n",
       "      <td>13530.953</td>\n",
       "      <td>12585.402</td>\n",
       "      <td>13842.7381</td>\n",
       "      <td>14709.884</td>\n",
       "      <td>14654.374</td>\n",
       "      <td>14770.2643</td>\n",
       "      <td>14849.1594</td>\n",
       "      <td>15272.633</td>\n",
       "      <td>15288.7756</td>\n",
       "      <td>15554.4295</td>\n",
       "      <td>17791.329902</td>\n",
       "    </tr>\n",
       "  </tbody>\n",
       "</table>\n",
       "</div>"
      ],
      "text/plain": [
       "  Country Name Country Code  \\\n",
       "0        Aruba          ABW   \n",
       "1  Afghanistan          AFG   \n",
       "\n",
       "                                      Indicator Name     Indicator Code  \\\n",
       "0  Total greenhouse gas emissions (kt of CO2 equi...  EN.ATM.GHGT.KT.CE   \n",
       "1  Total greenhouse gas emissions (kt of CO2 equi...  EN.ATM.GHGT.KT.CE   \n",
       "\n",
       "        2000       2001        2002       2003       2004        2005  \\\n",
       "0        NaN        NaN         NaN        NaN        NaN         NaN   \n",
       "1  13530.953  12585.402  13842.7381  14709.884  14654.374  14770.2643   \n",
       "\n",
       "         2006       2007        2008        2009          2010  \n",
       "0         NaN        NaN         NaN         NaN           NaN  \n",
       "1  14849.1594  15272.633  15288.7756  15554.4295  17791.329902  "
      ]
     },
     "execution_count": 8,
     "metadata": {},
     "output_type": "execute_result"
    }
   ],
   "source": [
    "column = df[['1960', '1961', '1962', '1963', '1964', '1965', '1966', '1967', '1968',\n",
    "       '1969', '1970', '1971', '1972', '1973', '1974', '1975', '1976', '1977',\n",
    "       '1978', '1979', '1980', '1981', '1982', '1983', '1984', '1985', '1986',\n",
    "       '1987', '1988', '1989', '1990', '1991', '1992', '1993', '1994', '1995',\n",
    "       '1996', '1997', '1998', '1999', '2011', '2012', '2013',\n",
    "       '2014', '2015', '2016', '2017', '2018', '2019', '2020', 'Unnamed: 65']]\n",
    "df = df.drop(column, axis= 1)\n",
    "df.head(2)"
   ]
  },
  {
   "cell_type": "markdown",
   "metadata": {},
   "source": [
    "<div class=\"alert alert-block alert-info\">\n",
    "    \n",
    " <span style='font-family:Georgia'>**Summarizing the descriptive statistics of numerical variables**\n",
    "     </div>"
   ]
  },
  {
   "cell_type": "code",
   "execution_count": 9,
   "metadata": {},
   "outputs": [
    {
     "data": {
      "text/html": [
       "<div>\n",
       "<style scoped>\n",
       "    .dataframe tbody tr th:only-of-type {\n",
       "        vertical-align: middle;\n",
       "    }\n",
       "\n",
       "    .dataframe tbody tr th {\n",
       "        vertical-align: top;\n",
       "    }\n",
       "\n",
       "    .dataframe thead th {\n",
       "        text-align: right;\n",
       "    }\n",
       "</style>\n",
       "<table border=\"1\" class=\"dataframe\">\n",
       "  <thead>\n",
       "    <tr style=\"text-align: right;\">\n",
       "      <th></th>\n",
       "      <th>2000</th>\n",
       "      <th>2001</th>\n",
       "      <th>2002</th>\n",
       "      <th>2003</th>\n",
       "      <th>2004</th>\n",
       "      <th>2005</th>\n",
       "      <th>2006</th>\n",
       "      <th>2007</th>\n",
       "      <th>2008</th>\n",
       "      <th>2009</th>\n",
       "      <th>2010</th>\n",
       "    </tr>\n",
       "  </thead>\n",
       "  <tbody>\n",
       "    <tr>\n",
       "      <th>count</th>\n",
       "      <td>2.300000e+02</td>\n",
       "      <td>2.300000e+02</td>\n",
       "      <td>2.290000e+02</td>\n",
       "      <td>2.300000e+02</td>\n",
       "      <td>2.300000e+02</td>\n",
       "      <td>2.280000e+02</td>\n",
       "      <td>2.270000e+02</td>\n",
       "      <td>2.290000e+02</td>\n",
       "      <td>2.250000e+02</td>\n",
       "      <td>2.240000e+02</td>\n",
       "      <td>2.210000e+02</td>\n",
       "    </tr>\n",
       "    <tr>\n",
       "      <th>mean</th>\n",
       "      <td>1.629289e+06</td>\n",
       "      <td>1.617223e+06</td>\n",
       "      <td>1.747142e+06</td>\n",
       "      <td>1.807670e+06</td>\n",
       "      <td>1.843928e+06</td>\n",
       "      <td>1.949674e+06</td>\n",
       "      <td>2.017811e+06</td>\n",
       "      <td>2.076139e+06</td>\n",
       "      <td>2.012251e+06</td>\n",
       "      <td>1.996157e+06</td>\n",
       "      <td>2.149223e+06</td>\n",
       "    </tr>\n",
       "    <tr>\n",
       "      <th>std</th>\n",
       "      <td>4.565088e+06</td>\n",
       "      <td>4.552742e+06</td>\n",
       "      <td>4.928232e+06</td>\n",
       "      <td>5.090879e+06</td>\n",
       "      <td>5.241620e+06</td>\n",
       "      <td>5.505084e+06</td>\n",
       "      <td>5.753450e+06</td>\n",
       "      <td>5.879057e+06</td>\n",
       "      <td>5.720444e+06</td>\n",
       "      <td>5.718695e+06</td>\n",
       "      <td>6.136163e+06</td>\n",
       "    </tr>\n",
       "    <tr>\n",
       "      <th>min</th>\n",
       "      <td>4.896875e+00</td>\n",
       "      <td>4.907344e+00</td>\n",
       "      <td>5.034354e+00</td>\n",
       "      <td>5.041195e+00</td>\n",
       "      <td>5.039763e+00</td>\n",
       "      <td>5.042693e+00</td>\n",
       "      <td>5.045092e+00</td>\n",
       "      <td>5.052994e+00</td>\n",
       "      <td>5.062560e+00</td>\n",
       "      <td>5.068208e+00</td>\n",
       "      <td>5.109678e+00</td>\n",
       "    </tr>\n",
       "    <tr>\n",
       "      <th>25%</th>\n",
       "      <td>1.151943e+04</td>\n",
       "      <td>1.212971e+04</td>\n",
       "      <td>1.265601e+04</td>\n",
       "      <td>1.282721e+04</td>\n",
       "      <td>1.319181e+04</td>\n",
       "      <td>1.341309e+04</td>\n",
       "      <td>1.437292e+04</td>\n",
       "      <td>1.441614e+04</td>\n",
       "      <td>1.508259e+04</td>\n",
       "      <td>1.553820e+04</td>\n",
       "      <td>1.579435e+04</td>\n",
       "    </tr>\n",
       "    <tr>\n",
       "      <th>50%</th>\n",
       "      <td>6.835841e+04</td>\n",
       "      <td>6.782502e+04</td>\n",
       "      <td>7.083349e+04</td>\n",
       "      <td>7.467153e+04</td>\n",
       "      <td>7.082929e+04</td>\n",
       "      <td>7.505318e+04</td>\n",
       "      <td>7.417113e+04</td>\n",
       "      <td>7.713576e+04</td>\n",
       "      <td>7.523855e+04</td>\n",
       "      <td>7.454908e+04</td>\n",
       "      <td>7.907244e+04</td>\n",
       "    </tr>\n",
       "    <tr>\n",
       "      <th>75%</th>\n",
       "      <td>5.251454e+05</td>\n",
       "      <td>5.069766e+05</td>\n",
       "      <td>5.348393e+05</td>\n",
       "      <td>5.428833e+05</td>\n",
       "      <td>5.585663e+05</td>\n",
       "      <td>5.620581e+05</td>\n",
       "      <td>5.805686e+05</td>\n",
       "      <td>6.343747e+05</td>\n",
       "      <td>5.949822e+05</td>\n",
       "      <td>5.656398e+05</td>\n",
       "      <td>6.095866e+05</td>\n",
       "    </tr>\n",
       "    <tr>\n",
       "      <th>max</th>\n",
       "      <td>4.056344e+07</td>\n",
       "      <td>4.036567e+07</td>\n",
       "      <td>4.307057e+07</td>\n",
       "      <td>4.442230e+07</td>\n",
       "      <td>4.565890e+07</td>\n",
       "      <td>4.721606e+07</td>\n",
       "      <td>4.863999e+07</td>\n",
       "      <td>4.997739e+07</td>\n",
       "      <td>4.866444e+07</td>\n",
       "      <td>4.815062e+07</td>\n",
       "      <td>5.091111e+07</td>\n",
       "    </tr>\n",
       "  </tbody>\n",
       "</table>\n",
       "</div>"
      ],
      "text/plain": [
       "               2000          2001          2002          2003          2004  \\\n",
       "count  2.300000e+02  2.300000e+02  2.290000e+02  2.300000e+02  2.300000e+02   \n",
       "mean   1.629289e+06  1.617223e+06  1.747142e+06  1.807670e+06  1.843928e+06   \n",
       "std    4.565088e+06  4.552742e+06  4.928232e+06  5.090879e+06  5.241620e+06   \n",
       "min    4.896875e+00  4.907344e+00  5.034354e+00  5.041195e+00  5.039763e+00   \n",
       "25%    1.151943e+04  1.212971e+04  1.265601e+04  1.282721e+04  1.319181e+04   \n",
       "50%    6.835841e+04  6.782502e+04  7.083349e+04  7.467153e+04  7.082929e+04   \n",
       "75%    5.251454e+05  5.069766e+05  5.348393e+05  5.428833e+05  5.585663e+05   \n",
       "max    4.056344e+07  4.036567e+07  4.307057e+07  4.442230e+07  4.565890e+07   \n",
       "\n",
       "               2005          2006          2007          2008          2009  \\\n",
       "count  2.280000e+02  2.270000e+02  2.290000e+02  2.250000e+02  2.240000e+02   \n",
       "mean   1.949674e+06  2.017811e+06  2.076139e+06  2.012251e+06  1.996157e+06   \n",
       "std    5.505084e+06  5.753450e+06  5.879057e+06  5.720444e+06  5.718695e+06   \n",
       "min    5.042693e+00  5.045092e+00  5.052994e+00  5.062560e+00  5.068208e+00   \n",
       "25%    1.341309e+04  1.437292e+04  1.441614e+04  1.508259e+04  1.553820e+04   \n",
       "50%    7.505318e+04  7.417113e+04  7.713576e+04  7.523855e+04  7.454908e+04   \n",
       "75%    5.620581e+05  5.805686e+05  6.343747e+05  5.949822e+05  5.656398e+05   \n",
       "max    4.721606e+07  4.863999e+07  4.997739e+07  4.866444e+07  4.815062e+07   \n",
       "\n",
       "               2010  \n",
       "count  2.210000e+02  \n",
       "mean   2.149223e+06  \n",
       "std    6.136163e+06  \n",
       "min    5.109678e+00  \n",
       "25%    1.579435e+04  \n",
       "50%    7.907244e+04  \n",
       "75%    6.095866e+05  \n",
       "max    5.091111e+07  "
      ]
     },
     "execution_count": 9,
     "metadata": {},
     "output_type": "execute_result"
    }
   ],
   "source": [
    "df.describe()"
   ]
  },
  {
   "cell_type": "markdown",
   "metadata": {},
   "source": [
    "<div class=\"alert alert-block alert-info\">\n",
    "    \n",
    " <span style='font-family:Georgia'>**Summarizing the non-numerical variables**\n",
    "     </div>"
   ]
  },
  {
   "cell_type": "code",
   "execution_count": 10,
   "metadata": {},
   "outputs": [
    {
     "data": {
      "text/html": [
       "<div>\n",
       "<style scoped>\n",
       "    .dataframe tbody tr th:only-of-type {\n",
       "        vertical-align: middle;\n",
       "    }\n",
       "\n",
       "    .dataframe tbody tr th {\n",
       "        vertical-align: top;\n",
       "    }\n",
       "\n",
       "    .dataframe thead th {\n",
       "        text-align: right;\n",
       "    }\n",
       "</style>\n",
       "<table border=\"1\" class=\"dataframe\">\n",
       "  <thead>\n",
       "    <tr style=\"text-align: right;\">\n",
       "      <th></th>\n",
       "      <th>Country Name</th>\n",
       "      <th>Country Code</th>\n",
       "      <th>Indicator Name</th>\n",
       "      <th>Indicator Code</th>\n",
       "    </tr>\n",
       "  </thead>\n",
       "  <tbody>\n",
       "    <tr>\n",
       "      <th>count</th>\n",
       "      <td>264</td>\n",
       "      <td>264</td>\n",
       "      <td>264</td>\n",
       "      <td>264</td>\n",
       "    </tr>\n",
       "    <tr>\n",
       "      <th>unique</th>\n",
       "      <td>264</td>\n",
       "      <td>264</td>\n",
       "      <td>1</td>\n",
       "      <td>1</td>\n",
       "    </tr>\n",
       "    <tr>\n",
       "      <th>top</th>\n",
       "      <td>European Union</td>\n",
       "      <td>MDV</td>\n",
       "      <td>Total greenhouse gas emissions (kt of CO2 equi...</td>\n",
       "      <td>EN.ATM.GHGT.KT.CE</td>\n",
       "    </tr>\n",
       "    <tr>\n",
       "      <th>freq</th>\n",
       "      <td>1</td>\n",
       "      <td>1</td>\n",
       "      <td>264</td>\n",
       "      <td>264</td>\n",
       "    </tr>\n",
       "  </tbody>\n",
       "</table>\n",
       "</div>"
      ],
      "text/plain": [
       "          Country Name Country Code  \\\n",
       "count              264          264   \n",
       "unique             264          264   \n",
       "top     European Union          MDV   \n",
       "freq                 1            1   \n",
       "\n",
       "                                           Indicator Name     Indicator Code  \n",
       "count                                                 264                264  \n",
       "unique                                                  1                  1  \n",
       "top     Total greenhouse gas emissions (kt of CO2 equi...  EN.ATM.GHGT.KT.CE  \n",
       "freq                                                  264                264  "
      ]
     },
     "execution_count": 10,
     "metadata": {},
     "output_type": "execute_result"
    }
   ],
   "source": [
    "df.describe(include=['O'])"
   ]
  },
  {
   "cell_type": "markdown",
   "metadata": {},
   "source": [
    "The non-numerical summary shows we are working on the 'Total greenhouse gas emmision in KT of CO2' with 264 unique variables in each row."
   ]
  },
  {
   "cell_type": "markdown",
   "metadata": {},
   "source": [
    "<div class=\"alert alert-block alert-info\">\n",
    "    \n",
    " <span style='font-family:Georgia'>**Inspecting the columns of data**\n",
    "     </div>"
   ]
  },
  {
   "cell_type": "code",
   "execution_count": 11,
   "metadata": {},
   "outputs": [
    {
     "data": {
      "text/plain": [
       "Index(['Country Name', 'Country Code', 'Indicator Name', 'Indicator Code',\n",
       "       '2000', '2001', '2002', '2003', '2004', '2005', '2006', '2007', '2008',\n",
       "       '2009', '2010'],\n",
       "      dtype='object')"
      ]
     },
     "execution_count": 11,
     "metadata": {},
     "output_type": "execute_result"
    }
   ],
   "source": [
    "df.columns"
   ]
  },
  {
   "cell_type": "code",
   "execution_count": 12,
   "metadata": {},
   "outputs": [
    {
     "name": "stdout",
     "output_type": "stream",
     "text": [
      "<class 'pandas.core.frame.DataFrame'>\n",
      "RangeIndex: 264 entries, 0 to 263\n",
      "Data columns (total 15 columns):\n",
      " #   Column          Non-Null Count  Dtype  \n",
      "---  ------          --------------  -----  \n",
      " 0   Country Name    264 non-null    object \n",
      " 1   Country Code    264 non-null    object \n",
      " 2   Indicator Name  264 non-null    object \n",
      " 3   Indicator Code  264 non-null    object \n",
      " 4   2000            230 non-null    float64\n",
      " 5   2001            230 non-null    float64\n",
      " 6   2002            229 non-null    float64\n",
      " 7   2003            230 non-null    float64\n",
      " 8   2004            230 non-null    float64\n",
      " 9   2005            228 non-null    float64\n",
      " 10  2006            227 non-null    float64\n",
      " 11  2007            229 non-null    float64\n",
      " 12  2008            225 non-null    float64\n",
      " 13  2009            224 non-null    float64\n",
      " 14  2010            221 non-null    float64\n",
      "dtypes: float64(11), object(4)\n",
      "memory usage: 31.1+ KB\n"
     ]
    }
   ],
   "source": [
    "df.info()"
   ]
  },
  {
   "cell_type": "markdown",
   "metadata": {},
   "source": [
    "<div class=\"alert alert-block alert-info\">\n",
    "    \n",
    " <span style='font-family:Georgia'>**FILTERING, EXPLORATORY ANALYSIS AND PRE-PROCESSING OF IMPORTANT ROWS**\n",
    "     </div>"
   ]
  },
  {
   "cell_type": "markdown",
   "metadata": {},
   "source": [
    "**Specific focus for now is years 2000 and 2010**"
   ]
  },
  {
   "cell_type": "code",
   "execution_count": 13,
   "metadata": {},
   "outputs": [
    {
     "data": {
      "text/html": [
       "<div>\n",
       "<style scoped>\n",
       "    .dataframe tbody tr th:only-of-type {\n",
       "        vertical-align: middle;\n",
       "    }\n",
       "\n",
       "    .dataframe tbody tr th {\n",
       "        vertical-align: top;\n",
       "    }\n",
       "\n",
       "    .dataframe thead th {\n",
       "        text-align: right;\n",
       "    }\n",
       "</style>\n",
       "<table border=\"1\" class=\"dataframe\">\n",
       "  <thead>\n",
       "    <tr style=\"text-align: right;\">\n",
       "      <th></th>\n",
       "      <th>Country Name</th>\n",
       "      <th>Country Code</th>\n",
       "      <th>2000</th>\n",
       "      <th>2010</th>\n",
       "    </tr>\n",
       "  </thead>\n",
       "  <tbody>\n",
       "    <tr>\n",
       "      <th>0</th>\n",
       "      <td>Aruba</td>\n",
       "      <td>ABW</td>\n",
       "      <td>NaN</td>\n",
       "      <td>NaN</td>\n",
       "    </tr>\n",
       "    <tr>\n",
       "      <th>1</th>\n",
       "      <td>Afghanistan</td>\n",
       "      <td>AFG</td>\n",
       "      <td>13530.9530</td>\n",
       "      <td>17791.329902</td>\n",
       "    </tr>\n",
       "    <tr>\n",
       "      <th>2</th>\n",
       "      <td>Angola</td>\n",
       "      <td>AGO</td>\n",
       "      <td>34780.6811</td>\n",
       "      <td>40029.392101</td>\n",
       "    </tr>\n",
       "    <tr>\n",
       "      <th>3</th>\n",
       "      <td>Albania</td>\n",
       "      <td>ALB</td>\n",
       "      <td>8389.2767</td>\n",
       "      <td>8506.996034</td>\n",
       "    </tr>\n",
       "    <tr>\n",
       "      <th>4</th>\n",
       "      <td>Andorra</td>\n",
       "      <td>AND</td>\n",
       "      <td>NaN</td>\n",
       "      <td>NaN</td>\n",
       "    </tr>\n",
       "  </tbody>\n",
       "</table>\n",
       "</div>"
      ],
      "text/plain": [
       "  Country Name Country Code        2000          2010\n",
       "0        Aruba          ABW         NaN           NaN\n",
       "1  Afghanistan          AFG  13530.9530  17791.329902\n",
       "2       Angola          AGO  34780.6811  40029.392101\n",
       "3      Albania          ALB   8389.2767   8506.996034\n",
       "4      Andorra          AND         NaN           NaN"
      ]
     },
     "execution_count": 13,
     "metadata": {},
     "output_type": "execute_result"
    }
   ],
   "source": [
    "#filter for important rows\n",
    "countries = df[['Country Name', 'Country Code', '2000', '2010']]\n",
    "countries.head()"
   ]
  },
  {
   "cell_type": "code",
   "execution_count": 14,
   "metadata": {},
   "outputs": [
    {
     "data": {
      "text/plain": [
       "<matplotlib.axes._subplots.AxesSubplot at 0x230e680b288>"
      ]
     },
     "execution_count": 14,
     "metadata": {},
     "output_type": "execute_result"
    },
    {
     "data": {
      "image/png": "[encoded data removed]",
      "text/plain": [
       "<Figure size 576x432 with 2 Axes>"
      ]
     },
     "metadata": {
      "needs_background": "light"
     },
     "output_type": "display_data"
    }
   ],
   "source": [
    "#checking for missing values in the interested columns\n",
    "import missingno as msno\n",
    "msno.matrix(countries, figsize=(8, 6))"
   ]
  },
  {
   "cell_type": "code",
   "execution_count": 15,
   "metadata": {},
   "outputs": [
    {
     "data": {
      "text/plain": [
       "<matplotlib.axes._subplots.AxesSubplot at 0x230e6870288>"
      ]
     },
     "execution_count": 15,
     "metadata": {},
     "output_type": "execute_result"
    },
    {
     "data": {
      "image/png": "[encoded data removed]",
      "text/plain": [
       "<Figure size 576x432 with 3 Axes>"
      ]
     },
     "metadata": {
      "needs_background": "light"
     },
     "output_type": "display_data"
    }
   ],
   "source": [
    "#confirming the actual number of missing values in the interested column\n",
    "msno.bar(countries,  figsize=(8, 6), fontsize=10, color='dimgray' )"
   ]
  },
  {
   "cell_type": "markdown",
   "metadata": {},
   "source": [
    "**I intend to fill the missing values and by checking the skewness and presence of outliers in the data, it can help to decide whether to fill the data with mean/median/mode.**\n",
    "\n",
    "**Mean will be the best filling technique for a normally distributed data while median will be considered if the extreme values or outliers are much.**"
   ]
  },
  {
   "cell_type": "code",
   "execution_count": 16,
   "metadata": {},
   "outputs": [
    {
     "data": {
      "text/plain": [
       "<seaborn.axisgrid.PairGrid at 0x230e6c0c108>"
      ]
     },
     "execution_count": 16,
     "metadata": {},
     "output_type": "execute_result"
    },
    {
     "data": {
      "image/png": "[encoded data removed]",
      "text/plain": [
       "<Figure size 360x360 with 6 Axes>"
      ]
     },
     "metadata": {
      "needs_background": "light"
     },
     "output_type": "display_data"
    }
   ],
   "source": [
    "columns = ['2000', '2010']\n",
    "sns.pairplot(countries[columns])"
   ]
  },
  {
   "cell_type": "markdown",
   "metadata": {},
   "source": [
    "**From the graphs above, we can see that the values are not normally distributed. There are lots of skewness within the dataset. Hence, median will be the best to fill the null values within the dataset.**"
   ]
  },
  {
   "cell_type": "code",
   "execution_count": 17,
   "metadata": {},
   "outputs": [
    {
     "name": "stderr",
     "output_type": "stream",
     "text": [
      "C:\\Anaconda3\\lib\\site-packages\\pandas\\core\\generic.py:6245: SettingWithCopyWarning: \n",
      "A value is trying to be set on a copy of a slice from a DataFrame\n",
      "\n",
      "See the caveats in the documentation: https://pandas.pydata.org/pandas-docs/stable/user_guide/indexing.html#returning-a-view-versus-a-copy\n",
      "  self._update_inplace(new_data)\n"
     ]
    }
   ],
   "source": [
    "#filling the null values with median due to the skewness of the variables.\n",
    "countries['2000'].fillna(countries['2000'].median(), inplace=True)\n",
    "countries['2010'].fillna(countries['2010'].median(), inplace=True)"
   ]
  },
  {
   "cell_type": "code",
   "execution_count": 18,
   "metadata": {},
   "outputs": [
    {
     "name": "stdout",
     "output_type": "stream",
     "text": [
      "<class 'pandas.core.frame.DataFrame'>\n",
      "RangeIndex: 264 entries, 0 to 263\n",
      "Data columns (total 4 columns):\n",
      " #   Column        Non-Null Count  Dtype  \n",
      "---  ------        --------------  -----  \n",
      " 0   Country Name  264 non-null    object \n",
      " 1   Country Code  264 non-null    object \n",
      " 2   2000          264 non-null    float64\n",
      " 3   2010          264 non-null    float64\n",
      "dtypes: float64(2), object(2)\n",
      "memory usage: 8.4+ KB\n"
     ]
    }
   ],
   "source": [
    "countries.info()"
   ]
  },
  {
   "cell_type": "markdown",
   "metadata": {},
   "source": [
    "<div class=\"alert alert-block alert-info\">\n",
    "    \n",
    " <span style='font-family:Georgia'>**Import the Natural Lowres Path to merge with the 'countries' dataframe**\n",
    "     </div>"
   ]
  },
  {
   "cell_type": "code",
   "execution_count": 19,
   "metadata": {},
   "outputs": [
    {
     "data": {
      "text/html": [
       "<div>\n",
       "<style scoped>\n",
       "    .dataframe tbody tr th:only-of-type {\n",
       "        vertical-align: middle;\n",
       "    }\n",
       "\n",
       "    .dataframe tbody tr th {\n",
       "        vertical-align: top;\n",
       "    }\n",
       "\n",
       "    .dataframe thead th {\n",
       "        text-align: right;\n",
       "    }\n",
       "</style>\n",
       "<table border=\"1\" class=\"dataframe\">\n",
       "  <thead>\n",
       "    <tr style=\"text-align: right;\">\n",
       "      <th></th>\n",
       "      <th>pop_est</th>\n",
       "      <th>continent</th>\n",
       "      <th>name</th>\n",
       "      <th>iso_a3</th>\n",
       "      <th>gdp_md_est</th>\n",
       "      <th>geometry</th>\n",
       "    </tr>\n",
       "  </thead>\n",
       "  <tbody>\n",
       "    <tr>\n",
       "      <th>0</th>\n",
       "      <td>920938</td>\n",
       "      <td>Oceania</td>\n",
       "      <td>Fiji</td>\n",
       "      <td>FJI</td>\n",
       "      <td>8374.0</td>\n",
       "      <td>MULTIPOLYGON (((180.00000 -16.06713, 180.00000...</td>\n",
       "    </tr>\n",
       "    <tr>\n",
       "      <th>1</th>\n",
       "      <td>53950935</td>\n",
       "      <td>Africa</td>\n",
       "      <td>Tanzania</td>\n",
       "      <td>TZA</td>\n",
       "      <td>150600.0</td>\n",
       "      <td>POLYGON ((33.90371 -0.95000, 34.07262 -1.05982...</td>\n",
       "    </tr>\n",
       "    <tr>\n",
       "      <th>2</th>\n",
       "      <td>603253</td>\n",
       "      <td>Africa</td>\n",
       "      <td>W. Sahara</td>\n",
       "      <td>ESH</td>\n",
       "      <td>906.5</td>\n",
       "      <td>POLYGON ((-8.66559 27.65643, -8.66512 27.58948...</td>\n",
       "    </tr>\n",
       "    <tr>\n",
       "      <th>3</th>\n",
       "      <td>35623680</td>\n",
       "      <td>North America</td>\n",
       "      <td>Canada</td>\n",
       "      <td>CAN</td>\n",
       "      <td>1674000.0</td>\n",
       "      <td>MULTIPOLYGON (((-122.84000 49.00000, -122.9742...</td>\n",
       "    </tr>\n",
       "    <tr>\n",
       "      <th>4</th>\n",
       "      <td>326625791</td>\n",
       "      <td>North America</td>\n",
       "      <td>United States of America</td>\n",
       "      <td>USA</td>\n",
       "      <td>18560000.0</td>\n",
       "      <td>MULTIPOLYGON (((-122.84000 49.00000, -120.0000...</td>\n",
       "    </tr>\n",
       "  </tbody>\n",
       "</table>\n",
       "</div>"
      ],
      "text/plain": [
       "     pop_est      continent                      name iso_a3  gdp_md_est  \\\n",
       "0     920938        Oceania                      Fiji    FJI      8374.0   \n",
       "1   53950935         Africa                  Tanzania    TZA    150600.0   \n",
       "2     603253         Africa                 W. Sahara    ESH       906.5   \n",
       "3   35623680  North America                    Canada    CAN   1674000.0   \n",
       "4  326625791  North America  United States of America    USA  18560000.0   \n",
       "\n",
       "                                            geometry  \n",
       "0  MULTIPOLYGON (((180.00000 -16.06713, 180.00000...  \n",
       "1  POLYGON ((33.90371 -0.95000, 34.07262 -1.05982...  \n",
       "2  POLYGON ((-8.66559 27.65643, -8.66512 27.58948...  \n",
       "3  MULTIPOLYGON (((-122.84000 49.00000, -122.9742...  \n",
       "4  MULTIPOLYGON (((-122.84000 49.00000, -120.0000...  "
      ]
     },
     "execution_count": 19,
     "metadata": {},
     "output_type": "execute_result"
    }
   ],
   "source": [
    "#read the natural lowres path\n",
    "world = gpd.read_file(gpd.datasets.get_path('naturalearth_lowres'))\n",
    "world.head()"
   ]
  },
  {
   "cell_type": "code",
   "execution_count": 20,
   "metadata": {},
   "outputs": [
    {
     "data": {
      "text/html": [
       "<div>\n",
       "<style scoped>\n",
       "    .dataframe tbody tr th:only-of-type {\n",
       "        vertical-align: middle;\n",
       "    }\n",
       "\n",
       "    .dataframe tbody tr th {\n",
       "        vertical-align: top;\n",
       "    }\n",
       "\n",
       "    .dataframe thead th {\n",
       "        text-align: right;\n",
       "    }\n",
       "</style>\n",
       "<table border=\"1\" class=\"dataframe\">\n",
       "  <thead>\n",
       "    <tr style=\"text-align: right;\">\n",
       "      <th></th>\n",
       "      <th>pop_est</th>\n",
       "      <th>continent</th>\n",
       "      <th>name</th>\n",
       "      <th>Country Code</th>\n",
       "      <th>gdp_md_est</th>\n",
       "      <th>geometry</th>\n",
       "    </tr>\n",
       "  </thead>\n",
       "  <tbody>\n",
       "    <tr>\n",
       "      <th>0</th>\n",
       "      <td>920938</td>\n",
       "      <td>Oceania</td>\n",
       "      <td>Fiji</td>\n",
       "      <td>FJI</td>\n",
       "      <td>8374.0</td>\n",
       "      <td>MULTIPOLYGON (((180.00000 -16.06713, 180.00000...</td>\n",
       "    </tr>\n",
       "    <tr>\n",
       "      <th>1</th>\n",
       "      <td>53950935</td>\n",
       "      <td>Africa</td>\n",
       "      <td>Tanzania</td>\n",
       "      <td>TZA</td>\n",
       "      <td>150600.0</td>\n",
       "      <td>POLYGON ((33.90371 -0.95000, 34.07262 -1.05982...</td>\n",
       "    </tr>\n",
       "    <tr>\n",
       "      <th>2</th>\n",
       "      <td>603253</td>\n",
       "      <td>Africa</td>\n",
       "      <td>W. Sahara</td>\n",
       "      <td>ESH</td>\n",
       "      <td>906.5</td>\n",
       "      <td>POLYGON ((-8.66559 27.65643, -8.66512 27.58948...</td>\n",
       "    </tr>\n",
       "    <tr>\n",
       "      <th>3</th>\n",
       "      <td>35623680</td>\n",
       "      <td>North America</td>\n",
       "      <td>Canada</td>\n",
       "      <td>CAN</td>\n",
       "      <td>1674000.0</td>\n",
       "      <td>MULTIPOLYGON (((-122.84000 49.00000, -122.9742...</td>\n",
       "    </tr>\n",
       "    <tr>\n",
       "      <th>4</th>\n",
       "      <td>326625791</td>\n",
       "      <td>North America</td>\n",
       "      <td>United States of America</td>\n",
       "      <td>USA</td>\n",
       "      <td>18560000.0</td>\n",
       "      <td>MULTIPOLYGON (((-122.84000 49.00000, -120.0000...</td>\n",
       "    </tr>\n",
       "  </tbody>\n",
       "</table>\n",
       "</div>"
      ],
      "text/plain": [
       "     pop_est      continent                      name Country Code  \\\n",
       "0     920938        Oceania                      Fiji          FJI   \n",
       "1   53950935         Africa                  Tanzania          TZA   \n",
       "2     603253         Africa                 W. Sahara          ESH   \n",
       "3   35623680  North America                    Canada          CAN   \n",
       "4  326625791  North America  United States of America          USA   \n",
       "\n",
       "   gdp_md_est                                           geometry  \n",
       "0      8374.0  MULTIPOLYGON (((180.00000 -16.06713, 180.00000...  \n",
       "1    150600.0  POLYGON ((33.90371 -0.95000, 34.07262 -1.05982...  \n",
       "2       906.5  POLYGON ((-8.66559 27.65643, -8.66512 27.58948...  \n",
       "3   1674000.0  MULTIPOLYGON (((-122.84000 49.00000, -122.9742...  \n",
       "4  18560000.0  MULTIPOLYGON (((-122.84000 49.00000, -120.0000...  "
      ]
     },
     "execution_count": 20,
     "metadata": {},
     "output_type": "execute_result"
    }
   ],
   "source": [
    "#renaming column\n",
    "world = world.rename(columns={'iso_a3':'Country Code'})\n",
    "world.head()"
   ]
  },
  {
   "cell_type": "code",
   "execution_count": 21,
   "metadata": {},
   "outputs": [
    {
     "data": {
      "text/html": [
       "<div>\n",
       "<style scoped>\n",
       "    .dataframe tbody tr th:only-of-type {\n",
       "        vertical-align: middle;\n",
       "    }\n",
       "\n",
       "    .dataframe tbody tr th {\n",
       "        vertical-align: top;\n",
       "    }\n",
       "\n",
       "    .dataframe thead th {\n",
       "        text-align: right;\n",
       "    }\n",
       "</style>\n",
       "<table border=\"1\" class=\"dataframe\">\n",
       "  <thead>\n",
       "    <tr style=\"text-align: right;\">\n",
       "      <th></th>\n",
       "      <th>pop_est</th>\n",
       "      <th>continent</th>\n",
       "      <th>name</th>\n",
       "      <th>Country Code</th>\n",
       "      <th>gdp_md_est</th>\n",
       "      <th>geometry</th>\n",
       "      <th>Country Name</th>\n",
       "      <th>2000</th>\n",
       "      <th>2010</th>\n",
       "    </tr>\n",
       "  </thead>\n",
       "  <tbody>\n",
       "    <tr>\n",
       "      <th>0</th>\n",
       "      <td>920938</td>\n",
       "      <td>Oceania</td>\n",
       "      <td>Fiji</td>\n",
       "      <td>FJI</td>\n",
       "      <td>8374.0</td>\n",
       "      <td>MULTIPOLYGON (((180.00000 -16.06713, 180.00000...</td>\n",
       "      <td>Fiji</td>\n",
       "      <td>1.574685e+03</td>\n",
       "      <td>2.163922e+03</td>\n",
       "    </tr>\n",
       "    <tr>\n",
       "      <th>1</th>\n",
       "      <td>53950935</td>\n",
       "      <td>Africa</td>\n",
       "      <td>Tanzania</td>\n",
       "      <td>TZA</td>\n",
       "      <td>150600.0</td>\n",
       "      <td>POLYGON ((33.90371 -0.95000, 34.07262 -1.05982...</td>\n",
       "      <td>Tanzania</td>\n",
       "      <td>2.159394e+05</td>\n",
       "      <td>2.341472e+05</td>\n",
       "    </tr>\n",
       "    <tr>\n",
       "      <th>2</th>\n",
       "      <td>35623680</td>\n",
       "      <td>North America</td>\n",
       "      <td>Canada</td>\n",
       "      <td>CAN</td>\n",
       "      <td>1674000.0</td>\n",
       "      <td>MULTIPOLYGON (((-122.84000 49.00000, -122.9742...</td>\n",
       "      <td>Canada</td>\n",
       "      <td>7.606430e+05</td>\n",
       "      <td>7.641377e+05</td>\n",
       "    </tr>\n",
       "    <tr>\n",
       "      <th>3</th>\n",
       "      <td>326625791</td>\n",
       "      <td>North America</td>\n",
       "      <td>United States of America</td>\n",
       "      <td>USA</td>\n",
       "      <td>18560000.0</td>\n",
       "      <td>MULTIPOLYGON (((-122.84000 49.00000, -120.0000...</td>\n",
       "      <td>United States</td>\n",
       "      <td>6.969124e+06</td>\n",
       "      <td>6.713349e+06</td>\n",
       "    </tr>\n",
       "    <tr>\n",
       "      <th>4</th>\n",
       "      <td>18556698</td>\n",
       "      <td>Asia</td>\n",
       "      <td>Kazakhstan</td>\n",
       "      <td>KAZ</td>\n",
       "      <td>460700.0</td>\n",
       "      <td>POLYGON ((87.35997 49.21498, 86.59878 48.54918...</td>\n",
       "      <td>Kazakhstan</td>\n",
       "      <td>2.073954e+05</td>\n",
       "      <td>3.473561e+05</td>\n",
       "    </tr>\n",
       "  </tbody>\n",
       "</table>\n",
       "</div>"
      ],
      "text/plain": [
       "     pop_est      continent                      name Country Code  \\\n",
       "0     920938        Oceania                      Fiji          FJI   \n",
       "1   53950935         Africa                  Tanzania          TZA   \n",
       "2   35623680  North America                    Canada          CAN   \n",
       "3  326625791  North America  United States of America          USA   \n",
       "4   18556698           Asia                Kazakhstan          KAZ   \n",
       "\n",
       "   gdp_md_est                                           geometry  \\\n",
       "0      8374.0  MULTIPOLYGON (((180.00000 -16.06713, 180.00000...   \n",
       "1    150600.0  POLYGON ((33.90371 -0.95000, 34.07262 -1.05982...   \n",
       "2   1674000.0  MULTIPOLYGON (((-122.84000 49.00000, -122.9742...   \n",
       "3  18560000.0  MULTIPOLYGON (((-122.84000 49.00000, -120.0000...   \n",
       "4    460700.0  POLYGON ((87.35997 49.21498, 86.59878 48.54918...   \n",
       "\n",
       "    Country Name          2000          2010  \n",
       "0           Fiji  1.574685e+03  2.163922e+03  \n",
       "1       Tanzania  2.159394e+05  2.341472e+05  \n",
       "2         Canada  7.606430e+05  7.641377e+05  \n",
       "3  United States  6.969124e+06  6.713349e+06  \n",
       "4     Kazakhstan  2.073954e+05  3.473561e+05  "
      ]
     },
     "execution_count": 21,
     "metadata": {},
     "output_type": "execute_result"
    }
   ],
   "source": [
    "#merge natural lowres with countries dataset\n",
    "countries_merge = world.merge(countries, on='Country Code').drop_duplicates(subset=['Country Code'])\n",
    "countries_merge.head()"
   ]
  },
  {
   "cell_type": "markdown",
   "metadata": {},
   "source": [
    "<div class=\"alert alert-block alert-info\">\n",
    "    \n",
    " <span style='font-family:Georgia'>**Checking the CRS of the geodataframe 'countries_merge'**\n",
    "     </div>"
   ]
  },
  {
   "cell_type": "code",
   "execution_count": 22,
   "metadata": {},
   "outputs": [
    {
     "data": {
      "text/plain": [
       "<Geographic 2D CRS: EPSG:4326>\n",
       "Name: WGS 84\n",
       "Axis Info [ellipsoidal]:\n",
       "- Lat[north]: Geodetic latitude (degree)\n",
       "- Lon[east]: Geodetic longitude (degree)\n",
       "Area of Use:\n",
       "- name: World\n",
       "- bounds: (-180.0, -90.0, 180.0, 90.0)\n",
       "Datum: World Geodetic System 1984\n",
       "- Ellipsoid: WGS 84\n",
       "- Prime Meridian: Greenwich"
      ]
     },
     "execution_count": 22,
     "metadata": {},
     "output_type": "execute_result"
    }
   ],
   "source": [
    "countries_merge.crs"
   ]
  },
  {
   "cell_type": "markdown",
   "metadata": {},
   "source": [
    "<div class=\"alert alert-block alert-info\">\n",
    "    \n",
    " <span style='font-family:Georgia'>**Changing the CRS to Metres from Degrees**\n",
    "     </div>"
   ]
  },
  {
   "cell_type": "code",
   "execution_count": 23,
   "metadata": {},
   "outputs": [
    {
     "data": {
      "text/html": [
       "<div>\n",
       "<style scoped>\n",
       "    .dataframe tbody tr th:only-of-type {\n",
       "        vertical-align: middle;\n",
       "    }\n",
       "\n",
       "    .dataframe tbody tr th {\n",
       "        vertical-align: top;\n",
       "    }\n",
       "\n",
       "    .dataframe thead th {\n",
       "        text-align: right;\n",
       "    }\n",
       "</style>\n",
       "<table border=\"1\" class=\"dataframe\">\n",
       "  <thead>\n",
       "    <tr style=\"text-align: right;\">\n",
       "      <th></th>\n",
       "      <th>pop_est</th>\n",
       "      <th>continent</th>\n",
       "      <th>name</th>\n",
       "      <th>Country Code</th>\n",
       "      <th>gdp_md_est</th>\n",
       "      <th>geometry</th>\n",
       "      <th>Country Name</th>\n",
       "      <th>2000</th>\n",
       "      <th>2010</th>\n",
       "    </tr>\n",
       "  </thead>\n",
       "  <tbody>\n",
       "    <tr>\n",
       "      <th>0</th>\n",
       "      <td>920938</td>\n",
       "      <td>Oceania</td>\n",
       "      <td>Fiji</td>\n",
       "      <td>FJI</td>\n",
       "      <td>8374.0</td>\n",
       "      <td>MULTIPOLYGON (((20037508.343 -1812498.413, 200...</td>\n",
       "      <td>Fiji</td>\n",
       "      <td>1.574685e+03</td>\n",
       "      <td>2.163922e+03</td>\n",
       "    </tr>\n",
       "    <tr>\n",
       "      <th>1</th>\n",
       "      <td>53950935</td>\n",
       "      <td>Africa</td>\n",
       "      <td>Tanzania</td>\n",
       "      <td>TZA</td>\n",
       "      <td>150600.0</td>\n",
       "      <td>POLYGON ((3774143.866 -105758.362, 3792946.708...</td>\n",
       "      <td>Tanzania</td>\n",
       "      <td>2.159394e+05</td>\n",
       "      <td>2.341472e+05</td>\n",
       "    </tr>\n",
       "    <tr>\n",
       "      <th>2</th>\n",
       "      <td>35623680</td>\n",
       "      <td>North America</td>\n",
       "      <td>Canada</td>\n",
       "      <td>CAN</td>\n",
       "      <td>1674000.0</td>\n",
       "      <td>MULTIPOLYGON (((-13674486.249 6274861.394, -13...</td>\n",
       "      <td>Canada</td>\n",
       "      <td>7.606430e+05</td>\n",
       "      <td>7.641377e+05</td>\n",
       "    </tr>\n",
       "    <tr>\n",
       "      <th>3</th>\n",
       "      <td>326625791</td>\n",
       "      <td>North America</td>\n",
       "      <td>United States of America</td>\n",
       "      <td>USA</td>\n",
       "      <td>18560000.0</td>\n",
       "      <td>MULTIPOLYGON (((-13674486.249 6274861.394, -13...</td>\n",
       "      <td>United States</td>\n",
       "      <td>6.969124e+06</td>\n",
       "      <td>6.713349e+06</td>\n",
       "    </tr>\n",
       "    <tr>\n",
       "      <th>4</th>\n",
       "      <td>18556698</td>\n",
       "      <td>Asia</td>\n",
       "      <td>Kazakhstan</td>\n",
       "      <td>KAZ</td>\n",
       "      <td>460700.0</td>\n",
       "      <td>POLYGON ((9724867.413 6311418.173, 9640131.701...</td>\n",
       "      <td>Kazakhstan</td>\n",
       "      <td>2.073954e+05</td>\n",
       "      <td>3.473561e+05</td>\n",
       "    </tr>\n",
       "  </tbody>\n",
       "</table>\n",
       "</div>"
      ],
      "text/plain": [
       "     pop_est      continent                      name Country Code  \\\n",
       "0     920938        Oceania                      Fiji          FJI   \n",
       "1   53950935         Africa                  Tanzania          TZA   \n",
       "2   35623680  North America                    Canada          CAN   \n",
       "3  326625791  North America  United States of America          USA   \n",
       "4   18556698           Asia                Kazakhstan          KAZ   \n",
       "\n",
       "   gdp_md_est                                           geometry  \\\n",
       "0      8374.0  MULTIPOLYGON (((20037508.343 -1812498.413, 200...   \n",
       "1    150600.0  POLYGON ((3774143.866 -105758.362, 3792946.708...   \n",
       "2   1674000.0  MULTIPOLYGON (((-13674486.249 6274861.394, -13...   \n",
       "3  18560000.0  MULTIPOLYGON (((-13674486.249 6274861.394, -13...   \n",
       "4    460700.0  POLYGON ((9724867.413 6311418.173, 9640131.701...   \n",
       "\n",
       "    Country Name          2000          2010  \n",
       "0           Fiji  1.574685e+03  2.163922e+03  \n",
       "1       Tanzania  2.159394e+05  2.341472e+05  \n",
       "2         Canada  7.606430e+05  7.641377e+05  \n",
       "3  United States  6.969124e+06  6.713349e+06  \n",
       "4     Kazakhstan  2.073954e+05  3.473561e+05  "
      ]
     },
     "execution_count": 23,
     "metadata": {},
     "output_type": "execute_result"
    }
   ],
   "source": [
    "countries_merge = countries_merge.to_crs(epsg=3857)\n",
    "countries_merge.head()"
   ]
  },
  {
   "cell_type": "code",
   "execution_count": 24,
   "metadata": {},
   "outputs": [
    {
     "data": {
      "text/plain": [
       "<Projected CRS: EPSG:3857>\n",
       "Name: WGS 84 / Pseudo-Mercator\n",
       "Axis Info [cartesian]:\n",
       "- X[east]: Easting (metre)\n",
       "- Y[north]: Northing (metre)\n",
       "Area of Use:\n",
       "- name: World - 85°S to 85°N\n",
       "- bounds: (-180.0, -85.06, 180.0, 85.06)\n",
       "Coordinate Operation:\n",
       "- name: Popular Visualisation Pseudo-Mercator\n",
       "- method: Popular Visualisation Pseudo Mercator\n",
       "Datum: World Geodetic System 1984\n",
       "- Ellipsoid: WGS 84\n",
       "- Prime Meridian: Greenwich"
      ]
     },
     "execution_count": 24,
     "metadata": {},
     "output_type": "execute_result"
    }
   ],
   "source": [
    "countries_merge.crs"
   ]
  },
  {
   "cell_type": "markdown",
   "metadata": {},
   "source": [
    "<div class=\"alert alert-block alert-info\">\n",
    "    \n",
    " <span style='font-family:Georgia'>**Selecting the columns neccesary for our analysis**\n",
    "     </div>"
   ]
  },
  {
   "cell_type": "code",
   "execution_count": 25,
   "metadata": {},
   "outputs": [
    {
     "data": {
      "text/html": [
       "<div>\n",
       "<style scoped>\n",
       "    .dataframe tbody tr th:only-of-type {\n",
       "        vertical-align: middle;\n",
       "    }\n",
       "\n",
       "    .dataframe tbody tr th {\n",
       "        vertical-align: top;\n",
       "    }\n",
       "\n",
       "    .dataframe thead th {\n",
       "        text-align: right;\n",
       "    }\n",
       "</style>\n",
       "<table border=\"1\" class=\"dataframe\">\n",
       "  <thead>\n",
       "    <tr style=\"text-align: right;\">\n",
       "      <th></th>\n",
       "      <th>Country Code</th>\n",
       "      <th>geometry</th>\n",
       "      <th>2000</th>\n",
       "      <th>2010</th>\n",
       "    </tr>\n",
       "  </thead>\n",
       "  <tbody>\n",
       "    <tr>\n",
       "      <th>0</th>\n",
       "      <td>FJI</td>\n",
       "      <td>MULTIPOLYGON (((20037508.343 -1812498.413, 200...</td>\n",
       "      <td>1.574685e+03</td>\n",
       "      <td>2.163922e+03</td>\n",
       "    </tr>\n",
       "    <tr>\n",
       "      <th>1</th>\n",
       "      <td>TZA</td>\n",
       "      <td>POLYGON ((3774143.866 -105758.362, 3792946.708...</td>\n",
       "      <td>2.159394e+05</td>\n",
       "      <td>2.341472e+05</td>\n",
       "    </tr>\n",
       "    <tr>\n",
       "      <th>2</th>\n",
       "      <td>CAN</td>\n",
       "      <td>MULTIPOLYGON (((-13674486.249 6274861.394, -13...</td>\n",
       "      <td>7.606430e+05</td>\n",
       "      <td>7.641377e+05</td>\n",
       "    </tr>\n",
       "    <tr>\n",
       "      <th>3</th>\n",
       "      <td>USA</td>\n",
       "      <td>MULTIPOLYGON (((-13674486.249 6274861.394, -13...</td>\n",
       "      <td>6.969124e+06</td>\n",
       "      <td>6.713349e+06</td>\n",
       "    </tr>\n",
       "    <tr>\n",
       "      <th>4</th>\n",
       "      <td>KAZ</td>\n",
       "      <td>POLYGON ((9724867.413 6311418.173, 9640131.701...</td>\n",
       "      <td>2.073954e+05</td>\n",
       "      <td>3.473561e+05</td>\n",
       "    </tr>\n",
       "  </tbody>\n",
       "</table>\n",
       "</div>"
      ],
      "text/plain": [
       "  Country Code                                           geometry  \\\n",
       "0          FJI  MULTIPOLYGON (((20037508.343 -1812498.413, 200...   \n",
       "1          TZA  POLYGON ((3774143.866 -105758.362, 3792946.708...   \n",
       "2          CAN  MULTIPOLYGON (((-13674486.249 6274861.394, -13...   \n",
       "3          USA  MULTIPOLYGON (((-13674486.249 6274861.394, -13...   \n",
       "4          KAZ  POLYGON ((9724867.413 6311418.173, 9640131.701...   \n",
       "\n",
       "           2000          2010  \n",
       "0  1.574685e+03  2.163922e+03  \n",
       "1  2.159394e+05  2.341472e+05  \n",
       "2  7.606430e+05  7.641377e+05  \n",
       "3  6.969124e+06  6.713349e+06  \n",
       "4  2.073954e+05  3.473561e+05  "
      ]
     },
     "execution_count": 25,
     "metadata": {},
     "output_type": "execute_result"
    }
   ],
   "source": [
    "gdf_countries =countries_merge[['Country Code','geometry', '2000', '2010']]\n",
    "gdf_countries.head()"
   ]
  },
  {
   "cell_type": "code",
   "execution_count": 26,
   "metadata": {},
   "outputs": [
    {
     "data": {
      "image/png": "[encoded data removed]",
      "text/plain": [
       "<Figure size 1440x432 with 2 Axes>"
      ]
     },
     "metadata": {
      "needs_background": "light"
     },
     "output_type": "display_data"
    }
   ],
   "source": [
    "base= world.plot(color='grey', edgecolor= 'black', figsize= (20,6))\n",
    "gdf_countries.plot(column='2000', ax=base, cmap ='Set2', figsize = (20, 6), legend = True)\n",
    "plt.title('Choropleth Map for Year 2000 Greenhouse Gas Emmision')\n",
    "plt.show()"
   ]
  },
  {
   "cell_type": "markdown",
   "metadata": {},
   "source": [
    "**INTERPRETATION**\n",
    "\n",
    "The distribution of greenhouse gas emissions worldwide in **2000** is depicted on this choropleth map.\n",
    "Each of the regions on the map is coloured differently to indicate the level of emissions. The range of emissions associated with each colour is shown in the map's legend.\n",
    "\n",
    "According to the map, USA, China, Russia, and India have the highest concentrations of emissions, which are depicted by the colours ash, yellow, pink, and grey respectively. \n",
    "\n",
    "In contrast, the regions with the lowest emissions levels are mainly in Africa, Europe, South America, and North America. The orange and green colour used to denote these areas' low emission levels.\n",
    "\n",
    "\n"
   ]
  },
  {
   "cell_type": "code",
   "execution_count": 27,
   "metadata": {
    "scrolled": true
   },
   "outputs": [
    {
     "data": {
      "image/png": "[encoded data removed]",
      "text/plain": [
       "<Figure size 1440x432 with 2 Axes>"
      ]
     },
     "metadata": {
      "needs_background": "light"
     },
     "output_type": "display_data"
    }
   ],
   "source": [
    "base= world.plot(color='grey', edgecolor= 'black', figsize= (20,6))\n",
    "gdf_countries.plot(column='2010', ax=base, cmap ='Set2', figsize = (20, 6), legend = True )\n",
    "plt.title('Choropleth Map for Year 2010 Greenhouse Gas Emmision')\n",
    "plt.show()"
   ]
  },
  {
   "cell_type": "markdown",
   "metadata": {},
   "source": [
    "**INTERPRETATION**\n",
    "\n",
    "The distribution of greenhouse gas emissions worldwide in **2010** is depicted on this choropleth map.\n",
    "The visualisation shows China, USA, and Brazil have the highest emissions concentrations; these three countries are represented by colours ash, light green, and grey on the map, respectively. \n",
    "\n",
    "The regions with the lowest emissions levels, are found in South America, North America, Africa, Russia, and Europe. Low emission levels in these places were highlighted by the orange and green colour.\n",
    "\n",
    "**The Choropleth visualisations demonstrates geographic and global variations in greenhouse gas emissions.** \n",
    "\n",
    "\n",
    "\n"
   ]
  },
  {
   "cell_type": "markdown",
   "metadata": {},
   "source": [
    "<div class=\"alert alert-block alert-info\">\n",
    "    \n",
    " <span style='font-family:Georgia'>**Importing population dataset**\n",
    "     </div>"
   ]
  },
  {
   "cell_type": "code",
   "execution_count": 28,
   "metadata": {},
   "outputs": [
    {
     "data": {
      "text/html": [
       "<div>\n",
       "<style scoped>\n",
       "    .dataframe tbody tr th:only-of-type {\n",
       "        vertical-align: middle;\n",
       "    }\n",
       "\n",
       "    .dataframe tbody tr th {\n",
       "        vertical-align: top;\n",
       "    }\n",
       "\n",
       "    .dataframe thead th {\n",
       "        text-align: right;\n",
       "    }\n",
       "</style>\n",
       "<table border=\"1\" class=\"dataframe\">\n",
       "  <thead>\n",
       "    <tr style=\"text-align: right;\">\n",
       "      <th></th>\n",
       "      <th>Country Name</th>\n",
       "      <th>Country Code</th>\n",
       "      <th>Indicator Name</th>\n",
       "      <th>Indicator Code</th>\n",
       "      <th>1960</th>\n",
       "      <th>1961</th>\n",
       "      <th>1962</th>\n",
       "      <th>1963</th>\n",
       "      <th>1964</th>\n",
       "      <th>1965</th>\n",
       "      <th>...</th>\n",
       "      <th>2013</th>\n",
       "      <th>2014</th>\n",
       "      <th>2015</th>\n",
       "      <th>2016</th>\n",
       "      <th>2017</th>\n",
       "      <th>2018</th>\n",
       "      <th>2019</th>\n",
       "      <th>2020</th>\n",
       "      <th>2021</th>\n",
       "      <th>Unnamed: 66</th>\n",
       "    </tr>\n",
       "  </thead>\n",
       "  <tbody>\n",
       "    <tr>\n",
       "      <th>0</th>\n",
       "      <td>Aruba</td>\n",
       "      <td>ABW</td>\n",
       "      <td>Population, total</td>\n",
       "      <td>SP.POP.TOTL</td>\n",
       "      <td>54208.0</td>\n",
       "      <td>55434.0</td>\n",
       "      <td>56234.0</td>\n",
       "      <td>56699.0</td>\n",
       "      <td>57029.0</td>\n",
       "      <td>57357.0</td>\n",
       "      <td>...</td>\n",
       "      <td>103165.0</td>\n",
       "      <td>103776.0</td>\n",
       "      <td>104339.0</td>\n",
       "      <td>104865.0</td>\n",
       "      <td>105361.0</td>\n",
       "      <td>105846.0</td>\n",
       "      <td>106310.0</td>\n",
       "      <td>106766.0</td>\n",
       "      <td>107195.0</td>\n",
       "      <td>NaN</td>\n",
       "    </tr>\n",
       "    <tr>\n",
       "      <th>1</th>\n",
       "      <td>Africa Eastern and Southern</td>\n",
       "      <td>AFE</td>\n",
       "      <td>Population, total</td>\n",
       "      <td>SP.POP.TOTL</td>\n",
       "      <td>130836765.0</td>\n",
       "      <td>134159786.0</td>\n",
       "      <td>137614644.0</td>\n",
       "      <td>141202036.0</td>\n",
       "      <td>144920186.0</td>\n",
       "      <td>148769974.0</td>\n",
       "      <td>...</td>\n",
       "      <td>562601578.0</td>\n",
       "      <td>578075373.0</td>\n",
       "      <td>593871847.0</td>\n",
       "      <td>609978946.0</td>\n",
       "      <td>626392880.0</td>\n",
       "      <td>643090131.0</td>\n",
       "      <td>660046272.0</td>\n",
       "      <td>677243299.0</td>\n",
       "      <td>694665117.0</td>\n",
       "      <td>NaN</td>\n",
       "    </tr>\n",
       "    <tr>\n",
       "      <th>2</th>\n",
       "      <td>Afghanistan</td>\n",
       "      <td>AFG</td>\n",
       "      <td>Population, total</td>\n",
       "      <td>SP.POP.TOTL</td>\n",
       "      <td>8996967.0</td>\n",
       "      <td>9169406.0</td>\n",
       "      <td>9351442.0</td>\n",
       "      <td>9543200.0</td>\n",
       "      <td>9744772.0</td>\n",
       "      <td>9956318.0</td>\n",
       "      <td>...</td>\n",
       "      <td>32269592.0</td>\n",
       "      <td>33370804.0</td>\n",
       "      <td>34413603.0</td>\n",
       "      <td>35383028.0</td>\n",
       "      <td>36296111.0</td>\n",
       "      <td>37171922.0</td>\n",
       "      <td>38041757.0</td>\n",
       "      <td>38928341.0</td>\n",
       "      <td>39835428.0</td>\n",
       "      <td>NaN</td>\n",
       "    </tr>\n",
       "  </tbody>\n",
       "</table>\n",
       "<p>3 rows × 67 columns</p>\n",
       "</div>"
      ],
      "text/plain": [
       "                  Country Name Country Code     Indicator Name Indicator Code  \\\n",
       "0                        Aruba          ABW  Population, total    SP.POP.TOTL   \n",
       "1  Africa Eastern and Southern          AFE  Population, total    SP.POP.TOTL   \n",
       "2                  Afghanistan          AFG  Population, total    SP.POP.TOTL   \n",
       "\n",
       "          1960         1961         1962         1963         1964  \\\n",
       "0      54208.0      55434.0      56234.0      56699.0      57029.0   \n",
       "1  130836765.0  134159786.0  137614644.0  141202036.0  144920186.0   \n",
       "2    8996967.0    9169406.0    9351442.0    9543200.0    9744772.0   \n",
       "\n",
       "          1965  ...         2013         2014         2015         2016  \\\n",
       "0      57357.0  ...     103165.0     103776.0     104339.0     104865.0   \n",
       "1  148769974.0  ...  562601578.0  578075373.0  593871847.0  609978946.0   \n",
       "2    9956318.0  ...   32269592.0   33370804.0   34413603.0   35383028.0   \n",
       "\n",
       "          2017         2018         2019         2020         2021  \\\n",
       "0     105361.0     105846.0     106310.0     106766.0     107195.0   \n",
       "1  626392880.0  643090131.0  660046272.0  677243299.0  694665117.0   \n",
       "2   36296111.0   37171922.0   38041757.0   38928341.0   39835428.0   \n",
       "\n",
       "   Unnamed: 66  \n",
       "0          NaN  \n",
       "1          NaN  \n",
       "2          NaN  \n",
       "\n",
       "[3 rows x 67 columns]"
      ]
     },
     "execution_count": 28,
     "metadata": {},
     "output_type": "execute_result"
    }
   ],
   "source": [
    "population_df = pd.read_csv('API_SP.POP.TOTL_DS2_en_csv_v2_4485025.csv', skiprows = 4)\n",
    "population_df.head(3)"
   ]
  },
  {
   "cell_type": "code",
   "execution_count": 29,
   "metadata": {},
   "outputs": [
    {
     "data": {
      "text/plain": [
       "(266, 67)"
      ]
     },
     "execution_count": 29,
     "metadata": {},
     "output_type": "execute_result"
    }
   ],
   "source": [
    "population_df.shape"
   ]
  },
  {
   "cell_type": "code",
   "execution_count": 30,
   "metadata": {},
   "outputs": [
    {
     "name": "stdout",
     "output_type": "stream",
     "text": [
      "<class 'pandas.core.frame.DataFrame'>\n",
      "RangeIndex: 266 entries, 0 to 265\n",
      "Data columns (total 67 columns):\n",
      " #   Column          Non-Null Count  Dtype  \n",
      "---  ------          --------------  -----  \n",
      " 0   Country Name    266 non-null    object \n",
      " 1   Country Code    266 non-null    object \n",
      " 2   Indicator Name  266 non-null    object \n",
      " 3   Indicator Code  266 non-null    object \n",
      " 4   1960            264 non-null    float64\n",
      " 5   1961            264 non-null    float64\n",
      " 6   1962            264 non-null    float64\n",
      " 7   1963            264 non-null    float64\n",
      " 8   1964            264 non-null    float64\n",
      " 9   1965            264 non-null    float64\n",
      " 10  1966            264 non-null    float64\n",
      " 11  1967            264 non-null    float64\n",
      " 12  1968            264 non-null    float64\n",
      " 13  1969            264 non-null    float64\n",
      " 14  1970            264 non-null    float64\n",
      " 15  1971            264 non-null    float64\n",
      " 16  1972            264 non-null    float64\n",
      " 17  1973            264 non-null    float64\n",
      " 18  1974            264 non-null    float64\n",
      " 19  1975            264 non-null    float64\n",
      " 20  1976            264 non-null    float64\n",
      " 21  1977            264 non-null    float64\n",
      " 22  1978            264 non-null    float64\n",
      " 23  1979            264 non-null    float64\n",
      " 24  1980            264 non-null    float64\n",
      " 25  1981            264 non-null    float64\n",
      " 26  1982            264 non-null    float64\n",
      " 27  1983            264 non-null    float64\n",
      " 28  1984            264 non-null    float64\n",
      " 29  1985            264 non-null    float64\n",
      " 30  1986            264 non-null    float64\n",
      " 31  1987            264 non-null    float64\n",
      " 32  1988            264 non-null    float64\n",
      " 33  1989            264 non-null    float64\n",
      " 34  1990            265 non-null    float64\n",
      " 35  1991            265 non-null    float64\n",
      " 36  1992            264 non-null    float64\n",
      " 37  1993            264 non-null    float64\n",
      " 38  1994            264 non-null    float64\n",
      " 39  1995            265 non-null    float64\n",
      " 40  1996            265 non-null    float64\n",
      " 41  1997            265 non-null    float64\n",
      " 42  1998            265 non-null    float64\n",
      " 43  1999            265 non-null    float64\n",
      " 44  2000            265 non-null    float64\n",
      " 45  2001            265 non-null    float64\n",
      " 46  2002            265 non-null    float64\n",
      " 47  2003            265 non-null    float64\n",
      " 48  2004            265 non-null    float64\n",
      " 49  2005            265 non-null    float64\n",
      " 50  2006            265 non-null    float64\n",
      " 51  2007            265 non-null    float64\n",
      " 52  2008            265 non-null    float64\n",
      " 53  2009            265 non-null    float64\n",
      " 54  2010            265 non-null    float64\n",
      " 55  2011            265 non-null    float64\n",
      " 56  2012            264 non-null    float64\n",
      " 57  2013            264 non-null    float64\n",
      " 58  2014            264 non-null    float64\n",
      " 59  2015            264 non-null    float64\n",
      " 60  2016            264 non-null    float64\n",
      " 61  2017            264 non-null    float64\n",
      " 62  2018            264 non-null    float64\n",
      " 63  2019            264 non-null    float64\n",
      " 64  2020            264 non-null    float64\n",
      " 65  2021            264 non-null    float64\n",
      " 66  Unnamed: 66     0 non-null      float64\n",
      "dtypes: float64(63), object(4)\n",
      "memory usage: 139.4+ KB\n"
     ]
    }
   ],
   "source": [
    "population_df.info()"
   ]
  },
  {
   "cell_type": "code",
   "execution_count": 31,
   "metadata": {},
   "outputs": [
    {
     "data": {
      "text/html": [
       "<div>\n",
       "<style scoped>\n",
       "    .dataframe tbody tr th:only-of-type {\n",
       "        vertical-align: middle;\n",
       "    }\n",
       "\n",
       "    .dataframe tbody tr th {\n",
       "        vertical-align: top;\n",
       "    }\n",
       "\n",
       "    .dataframe thead th {\n",
       "        text-align: right;\n",
       "    }\n",
       "</style>\n",
       "<table border=\"1\" class=\"dataframe\">\n",
       "  <thead>\n",
       "    <tr style=\"text-align: right;\">\n",
       "      <th></th>\n",
       "      <th>Country Code</th>\n",
       "      <th>2005</th>\n",
       "    </tr>\n",
       "  </thead>\n",
       "  <tbody>\n",
       "    <tr>\n",
       "      <th>0</th>\n",
       "      <td>ABW</td>\n",
       "      <td>100028.0</td>\n",
       "    </tr>\n",
       "    <tr>\n",
       "      <th>1</th>\n",
       "      <td>AFE</td>\n",
       "      <td>453404076.0</td>\n",
       "    </tr>\n",
       "    <tr>\n",
       "      <th>2</th>\n",
       "      <td>AFG</td>\n",
       "      <td>25654274.0</td>\n",
       "    </tr>\n",
       "    <tr>\n",
       "      <th>3</th>\n",
       "      <td>AFW</td>\n",
       "      <td>305520588.0</td>\n",
       "    </tr>\n",
       "    <tr>\n",
       "      <th>4</th>\n",
       "      <td>AGO</td>\n",
       "      <td>19433604.0</td>\n",
       "    </tr>\n",
       "  </tbody>\n",
       "</table>\n",
       "</div>"
      ],
      "text/plain": [
       "  Country Code         2005\n",
       "0          ABW     100028.0\n",
       "1          AFE  453404076.0\n",
       "2          AFG   25654274.0\n",
       "3          AFW  305520588.0\n",
       "4          AGO   19433604.0"
      ]
     },
     "execution_count": 31,
     "metadata": {},
     "output_type": "execute_result"
    }
   ],
   "source": [
    "#filtering column of interest\n",
    "countries_population = population_df[['Country Code', '2005']]\n",
    "countries_population.head()"
   ]
  },
  {
   "cell_type": "markdown",
   "metadata": {},
   "source": [
    "**Columns of interest to the activity do not have null values**"
   ]
  },
  {
   "cell_type": "markdown",
   "metadata": {},
   "source": [
    "<div class=\"alert alert-block alert-info\">\n",
    "    \n",
    " <span style='font-family:Georgia'>**Filtering columns of interest from green house emission dataset**\n",
    "     </div>"
   ]
  },
  {
   "cell_type": "code",
   "execution_count": 32,
   "metadata": {},
   "outputs": [
    {
     "data": {
      "text/html": [
       "<div>\n",
       "<style scoped>\n",
       "    .dataframe tbody tr th:only-of-type {\n",
       "        vertical-align: middle;\n",
       "    }\n",
       "\n",
       "    .dataframe tbody tr th {\n",
       "        vertical-align: top;\n",
       "    }\n",
       "\n",
       "    .dataframe thead th {\n",
       "        text-align: right;\n",
       "    }\n",
       "</style>\n",
       "<table border=\"1\" class=\"dataframe\">\n",
       "  <thead>\n",
       "    <tr style=\"text-align: right;\">\n",
       "      <th></th>\n",
       "      <th>Country Name</th>\n",
       "      <th>Country Code</th>\n",
       "      <th>2005</th>\n",
       "    </tr>\n",
       "  </thead>\n",
       "  <tbody>\n",
       "    <tr>\n",
       "      <th>0</th>\n",
       "      <td>Aruba</td>\n",
       "      <td>ABW</td>\n",
       "      <td>NaN</td>\n",
       "    </tr>\n",
       "    <tr>\n",
       "      <th>1</th>\n",
       "      <td>Afghanistan</td>\n",
       "      <td>AFG</td>\n",
       "      <td>14770.2643</td>\n",
       "    </tr>\n",
       "    <tr>\n",
       "      <th>2</th>\n",
       "      <td>Angola</td>\n",
       "      <td>AGO</td>\n",
       "      <td>35855.7384</td>\n",
       "    </tr>\n",
       "    <tr>\n",
       "      <th>3</th>\n",
       "      <td>Albania</td>\n",
       "      <td>ALB</td>\n",
       "      <td>8308.3856</td>\n",
       "    </tr>\n",
       "    <tr>\n",
       "      <th>4</th>\n",
       "      <td>Andorra</td>\n",
       "      <td>AND</td>\n",
       "      <td>NaN</td>\n",
       "    </tr>\n",
       "  </tbody>\n",
       "</table>\n",
       "</div>"
      ],
      "text/plain": [
       "  Country Name Country Code        2005\n",
       "0        Aruba          ABW         NaN\n",
       "1  Afghanistan          AFG  14770.2643\n",
       "2       Angola          AGO  35855.7384\n",
       "3      Albania          ALB   8308.3856\n",
       "4      Andorra          AND         NaN"
      ]
     },
     "execution_count": 32,
     "metadata": {},
     "output_type": "execute_result"
    }
   ],
   "source": [
    "countries_greenhouse = df[['Country Name', 'Country Code', '2005']]\n",
    "countries_greenhouse.head()"
   ]
  },
  {
   "cell_type": "code",
   "execution_count": 33,
   "metadata": {},
   "outputs": [
    {
     "data": {
      "text/plain": [
       "(264, 3)"
      ]
     },
     "execution_count": 33,
     "metadata": {},
     "output_type": "execute_result"
    }
   ],
   "source": [
    "countries_greenhouse.shape"
   ]
  },
  {
   "cell_type": "code",
   "execution_count": 34,
   "metadata": {},
   "outputs": [
    {
     "data": {
      "text/plain": [
       "Country Name     0\n",
       "Country Code     0\n",
       "2005            36\n",
       "dtype: int64"
      ]
     },
     "execution_count": 34,
     "metadata": {},
     "output_type": "execute_result"
    }
   ],
   "source": [
    "countries_greenhouse.isna().sum()"
   ]
  },
  {
   "cell_type": "markdown",
   "metadata": {},
   "source": [
    " <div class=\"alert alert-block alert-info\">\n",
    "    \n",
    " <span style='font-family:Georgia'> **Pre-Processing**\n",
    "     </div>"
   ]
  },
  {
   "cell_type": "code",
   "execution_count": 35,
   "metadata": {},
   "outputs": [
    {
     "data": {
      "text/plain": [
       "<seaborn.axisgrid.PairGrid at 0x230e868f848>"
      ]
     },
     "execution_count": 35,
     "metadata": {},
     "output_type": "execute_result"
    },
    {
     "data": {
      "image/png": "[encoded data removed]",
      "text/plain": [
       "<Figure size 180x180 with 2 Axes>"
      ]
     },
     "metadata": {
      "needs_background": "light"
     },
     "output_type": "display_data"
    }
   ],
   "source": [
    "columns = ['2005']\n",
    "sns.pairplot(countries_greenhouse[columns])"
   ]
  },
  {
   "cell_type": "code",
   "execution_count": 36,
   "metadata": {},
   "outputs": [
    {
     "name": "stderr",
     "output_type": "stream",
     "text": [
      "C:\\Anaconda3\\lib\\site-packages\\pandas\\core\\generic.py:6245: SettingWithCopyWarning: \n",
      "A value is trying to be set on a copy of a slice from a DataFrame\n",
      "\n",
      "See the caveats in the documentation: https://pandas.pydata.org/pandas-docs/stable/user_guide/indexing.html#returning-a-view-versus-a-copy\n",
      "  self._update_inplace(new_data)\n"
     ]
    }
   ],
   "source": [
    "#filling the null values with median due to the skewness of the variables.\n",
    "countries_greenhouse['2005'].fillna(countries_greenhouse['2005'].median(), inplace=True)"
   ]
  },
  {
   "cell_type": "code",
   "execution_count": 37,
   "metadata": {},
   "outputs": [
    {
     "name": "stdout",
     "output_type": "stream",
     "text": [
      "<class 'pandas.core.frame.DataFrame'>\n",
      "RangeIndex: 264 entries, 0 to 263\n",
      "Data columns (total 3 columns):\n",
      " #   Column        Non-Null Count  Dtype  \n",
      "---  ------        --------------  -----  \n",
      " 0   Country Name  264 non-null    object \n",
      " 1   Country Code  264 non-null    object \n",
      " 2   2005          264 non-null    float64\n",
      "dtypes: float64(1), object(2)\n",
      "memory usage: 6.3+ KB\n"
     ]
    }
   ],
   "source": [
    "countries_greenhouse.info()"
   ]
  },
  {
   "cell_type": "code",
   "execution_count": 38,
   "metadata": {},
   "outputs": [
    {
     "data": {
      "text/html": [
       "<div>\n",
       "<style scoped>\n",
       "    .dataframe tbody tr th:only-of-type {\n",
       "        vertical-align: middle;\n",
       "    }\n",
       "\n",
       "    .dataframe tbody tr th {\n",
       "        vertical-align: top;\n",
       "    }\n",
       "\n",
       "    .dataframe thead th {\n",
       "        text-align: right;\n",
       "    }\n",
       "</style>\n",
       "<table border=\"1\" class=\"dataframe\">\n",
       "  <thead>\n",
       "    <tr style=\"text-align: right;\">\n",
       "      <th></th>\n",
       "      <th>Country Name</th>\n",
       "      <th>Country Code</th>\n",
       "      <th>2005_Greenhouse</th>\n",
       "      <th>2005_Population</th>\n",
       "    </tr>\n",
       "  </thead>\n",
       "  <tbody>\n",
       "    <tr>\n",
       "      <th>0</th>\n",
       "      <td>Aruba</td>\n",
       "      <td>ABW</td>\n",
       "      <td>75053.181245</td>\n",
       "      <td>100028.0</td>\n",
       "    </tr>\n",
       "    <tr>\n",
       "      <th>1</th>\n",
       "      <td>Afghanistan</td>\n",
       "      <td>AFG</td>\n",
       "      <td>14770.264300</td>\n",
       "      <td>25654274.0</td>\n",
       "    </tr>\n",
       "    <tr>\n",
       "      <th>2</th>\n",
       "      <td>Angola</td>\n",
       "      <td>AGO</td>\n",
       "      <td>35855.738400</td>\n",
       "      <td>19433604.0</td>\n",
       "    </tr>\n",
       "    <tr>\n",
       "      <th>3</th>\n",
       "      <td>Albania</td>\n",
       "      <td>ALB</td>\n",
       "      <td>8308.385600</td>\n",
       "      <td>3011487.0</td>\n",
       "    </tr>\n",
       "    <tr>\n",
       "      <th>4</th>\n",
       "      <td>Andorra</td>\n",
       "      <td>AND</td>\n",
       "      <td>75053.181245</td>\n",
       "      <td>78871.0</td>\n",
       "    </tr>\n",
       "  </tbody>\n",
       "</table>\n",
       "</div>"
      ],
      "text/plain": [
       "  Country Name Country Code  2005_Greenhouse  2005_Population\n",
       "0        Aruba          ABW     75053.181245         100028.0\n",
       "1  Afghanistan          AFG     14770.264300       25654274.0\n",
       "2       Angola          AGO     35855.738400       19433604.0\n",
       "3      Albania          ALB      8308.385600        3011487.0\n",
       "4      Andorra          AND     75053.181245          78871.0"
      ]
     },
     "execution_count": 38,
     "metadata": {},
     "output_type": "execute_result"
    }
   ],
   "source": [
    "#merging the population and greenhouse gas emission tables\n",
    "countries_merge = countries_greenhouse.merge(countries_population, on = 'Country Code',).drop_duplicates(subset=['Country Code'])\n",
    "\n",
    "#renaming the columns deignated as x and y after merging\n",
    "countries_merge = countries_merge.rename(columns={'2005_x':'2005_Greenhouse', '2005_y':'2005_Population'} )\n",
    "countries_merge.head()"
   ]
  },
  {
   "cell_type": "markdown",
   "metadata": {},
   "source": [
    "<div class=\"alert alert-block alert-info\">\n",
    "    \n",
    " <span style='font-family:Georgia'>**Import the Natural Lowres Path**\n",
    "     </div>"
   ]
  },
  {
   "cell_type": "code",
   "execution_count": 39,
   "metadata": {},
   "outputs": [],
   "source": [
    "world = gpd.read_file(gpd.datasets.get_path('naturalearth_lowres'))"
   ]
  },
  {
   "cell_type": "code",
   "execution_count": 40,
   "metadata": {},
   "outputs": [
    {
     "data": {
      "text/html": [
       "<div>\n",
       "<style scoped>\n",
       "    .dataframe tbody tr th:only-of-type {\n",
       "        vertical-align: middle;\n",
       "    }\n",
       "\n",
       "    .dataframe tbody tr th {\n",
       "        vertical-align: top;\n",
       "    }\n",
       "\n",
       "    .dataframe thead th {\n",
       "        text-align: right;\n",
       "    }\n",
       "</style>\n",
       "<table border=\"1\" class=\"dataframe\">\n",
       "  <thead>\n",
       "    <tr style=\"text-align: right;\">\n",
       "      <th></th>\n",
       "      <th>pop_est</th>\n",
       "      <th>continent</th>\n",
       "      <th>name</th>\n",
       "      <th>Country Code</th>\n",
       "      <th>gdp_md_est</th>\n",
       "      <th>geometry</th>\n",
       "    </tr>\n",
       "  </thead>\n",
       "  <tbody>\n",
       "    <tr>\n",
       "      <th>0</th>\n",
       "      <td>920938</td>\n",
       "      <td>Oceania</td>\n",
       "      <td>Fiji</td>\n",
       "      <td>FJI</td>\n",
       "      <td>8374.0</td>\n",
       "      <td>MULTIPOLYGON (((180.00000 -16.06713, 180.00000...</td>\n",
       "    </tr>\n",
       "    <tr>\n",
       "      <th>1</th>\n",
       "      <td>53950935</td>\n",
       "      <td>Africa</td>\n",
       "      <td>Tanzania</td>\n",
       "      <td>TZA</td>\n",
       "      <td>150600.0</td>\n",
       "      <td>POLYGON ((33.90371 -0.95000, 34.07262 -1.05982...</td>\n",
       "    </tr>\n",
       "    <tr>\n",
       "      <th>2</th>\n",
       "      <td>603253</td>\n",
       "      <td>Africa</td>\n",
       "      <td>W. Sahara</td>\n",
       "      <td>ESH</td>\n",
       "      <td>906.5</td>\n",
       "      <td>POLYGON ((-8.66559 27.65643, -8.66512 27.58948...</td>\n",
       "    </tr>\n",
       "    <tr>\n",
       "      <th>3</th>\n",
       "      <td>35623680</td>\n",
       "      <td>North America</td>\n",
       "      <td>Canada</td>\n",
       "      <td>CAN</td>\n",
       "      <td>1674000.0</td>\n",
       "      <td>MULTIPOLYGON (((-122.84000 49.00000, -122.9742...</td>\n",
       "    </tr>\n",
       "    <tr>\n",
       "      <th>4</th>\n",
       "      <td>326625791</td>\n",
       "      <td>North America</td>\n",
       "      <td>United States of America</td>\n",
       "      <td>USA</td>\n",
       "      <td>18560000.0</td>\n",
       "      <td>MULTIPOLYGON (((-122.84000 49.00000, -120.0000...</td>\n",
       "    </tr>\n",
       "  </tbody>\n",
       "</table>\n",
       "</div>"
      ],
      "text/plain": [
       "     pop_est      continent                      name Country Code  \\\n",
       "0     920938        Oceania                      Fiji          FJI   \n",
       "1   53950935         Africa                  Tanzania          TZA   \n",
       "2     603253         Africa                 W. Sahara          ESH   \n",
       "3   35623680  North America                    Canada          CAN   \n",
       "4  326625791  North America  United States of America          USA   \n",
       "\n",
       "   gdp_md_est                                           geometry  \n",
       "0      8374.0  MULTIPOLYGON (((180.00000 -16.06713, 180.00000...  \n",
       "1    150600.0  POLYGON ((33.90371 -0.95000, 34.07262 -1.05982...  \n",
       "2       906.5  POLYGON ((-8.66559 27.65643, -8.66512 27.58948...  \n",
       "3   1674000.0  MULTIPOLYGON (((-122.84000 49.00000, -122.9742...  \n",
       "4  18560000.0  MULTIPOLYGON (((-122.84000 49.00000, -120.0000...  "
      ]
     },
     "execution_count": 40,
     "metadata": {},
     "output_type": "execute_result"
    }
   ],
   "source": [
    "world = world.rename(columns={'iso_a3':'Country Code'})\n",
    "world.head()"
   ]
  },
  {
   "cell_type": "code",
   "execution_count": 41,
   "metadata": {},
   "outputs": [
    {
     "data": {
      "text/html": [
       "<div>\n",
       "<style scoped>\n",
       "    .dataframe tbody tr th:only-of-type {\n",
       "        vertical-align: middle;\n",
       "    }\n",
       "\n",
       "    .dataframe tbody tr th {\n",
       "        vertical-align: top;\n",
       "    }\n",
       "\n",
       "    .dataframe thead th {\n",
       "        text-align: right;\n",
       "    }\n",
       "</style>\n",
       "<table border=\"1\" class=\"dataframe\">\n",
       "  <thead>\n",
       "    <tr style=\"text-align: right;\">\n",
       "      <th></th>\n",
       "      <th>pop_est</th>\n",
       "      <th>continent</th>\n",
       "      <th>name</th>\n",
       "      <th>Country Code</th>\n",
       "      <th>gdp_md_est</th>\n",
       "      <th>geometry</th>\n",
       "      <th>Country Name</th>\n",
       "      <th>2005_Greenhouse</th>\n",
       "      <th>2005_Population</th>\n",
       "    </tr>\n",
       "  </thead>\n",
       "  <tbody>\n",
       "    <tr>\n",
       "      <th>0</th>\n",
       "      <td>920938</td>\n",
       "      <td>Oceania</td>\n",
       "      <td>Fiji</td>\n",
       "      <td>FJI</td>\n",
       "      <td>8374.0</td>\n",
       "      <td>MULTIPOLYGON (((180.00000 -16.06713, 180.00000...</td>\n",
       "      <td>Fiji</td>\n",
       "      <td>1.836070e+03</td>\n",
       "      <td>821606.0</td>\n",
       "    </tr>\n",
       "    <tr>\n",
       "      <th>1</th>\n",
       "      <td>53950935</td>\n",
       "      <td>Africa</td>\n",
       "      <td>Tanzania</td>\n",
       "      <td>TZA</td>\n",
       "      <td>150600.0</td>\n",
       "      <td>POLYGON ((33.90371 -0.95000, 34.07262 -1.05982...</td>\n",
       "      <td>Tanzania</td>\n",
       "      <td>2.695590e+05</td>\n",
       "      <td>38450323.0</td>\n",
       "    </tr>\n",
       "    <tr>\n",
       "      <th>2</th>\n",
       "      <td>35623680</td>\n",
       "      <td>North America</td>\n",
       "      <td>Canada</td>\n",
       "      <td>CAN</td>\n",
       "      <td>1674000.0</td>\n",
       "      <td>MULTIPOLYGON (((-122.84000 49.00000, -122.9742...</td>\n",
       "      <td>Canada</td>\n",
       "      <td>8.497987e+05</td>\n",
       "      <td>32243753.0</td>\n",
       "    </tr>\n",
       "    <tr>\n",
       "      <th>3</th>\n",
       "      <td>326625791</td>\n",
       "      <td>North America</td>\n",
       "      <td>United States of America</td>\n",
       "      <td>USA</td>\n",
       "      <td>18560000.0</td>\n",
       "      <td>MULTIPOLYGON (((-122.84000 49.00000, -120.0000...</td>\n",
       "      <td>United States</td>\n",
       "      <td>7.182808e+06</td>\n",
       "      <td>295516599.0</td>\n",
       "    </tr>\n",
       "    <tr>\n",
       "      <th>4</th>\n",
       "      <td>18556698</td>\n",
       "      <td>Asia</td>\n",
       "      <td>Kazakhstan</td>\n",
       "      <td>KAZ</td>\n",
       "      <td>460700.0</td>\n",
       "      <td>POLYGON ((87.35997 49.21498, 86.59878 48.54918...</td>\n",
       "      <td>Kazakhstan</td>\n",
       "      <td>2.916410e+05</td>\n",
       "      <td>15147029.0</td>\n",
       "    </tr>\n",
       "  </tbody>\n",
       "</table>\n",
       "</div>"
      ],
      "text/plain": [
       "     pop_est      continent                      name Country Code  \\\n",
       "0     920938        Oceania                      Fiji          FJI   \n",
       "1   53950935         Africa                  Tanzania          TZA   \n",
       "2   35623680  North America                    Canada          CAN   \n",
       "3  326625791  North America  United States of America          USA   \n",
       "4   18556698           Asia                Kazakhstan          KAZ   \n",
       "\n",
       "   gdp_md_est                                           geometry  \\\n",
       "0      8374.0  MULTIPOLYGON (((180.00000 -16.06713, 180.00000...   \n",
       "1    150600.0  POLYGON ((33.90371 -0.95000, 34.07262 -1.05982...   \n",
       "2   1674000.0  MULTIPOLYGON (((-122.84000 49.00000, -122.9742...   \n",
       "3  18560000.0  MULTIPOLYGON (((-122.84000 49.00000, -120.0000...   \n",
       "4    460700.0  POLYGON ((87.35997 49.21498, 86.59878 48.54918...   \n",
       "\n",
       "    Country Name  2005_Greenhouse  2005_Population  \n",
       "0           Fiji     1.836070e+03         821606.0  \n",
       "1       Tanzania     2.695590e+05       38450323.0  \n",
       "2         Canada     8.497987e+05       32243753.0  \n",
       "3  United States     7.182808e+06      295516599.0  \n",
       "4     Kazakhstan     2.916410e+05       15147029.0  "
      ]
     },
     "execution_count": 41,
     "metadata": {},
     "output_type": "execute_result"
    }
   ],
   "source": [
    "new_country_merge = world.merge(countries_merge, on='Country Code').drop_duplicates(subset=['Country Code'])\n",
    "new_country_merge.head()"
   ]
  },
  {
   "cell_type": "code",
   "execution_count": 42,
   "metadata": {},
   "outputs": [
    {
     "data": {
      "text/html": [
       "<div>\n",
       "<style scoped>\n",
       "    .dataframe tbody tr th:only-of-type {\n",
       "        vertical-align: middle;\n",
       "    }\n",
       "\n",
       "    .dataframe tbody tr th {\n",
       "        vertical-align: top;\n",
       "    }\n",
       "\n",
       "    .dataframe thead th {\n",
       "        text-align: right;\n",
       "    }\n",
       "</style>\n",
       "<table border=\"1\" class=\"dataframe\">\n",
       "  <thead>\n",
       "    <tr style=\"text-align: right;\">\n",
       "      <th></th>\n",
       "      <th>Country Code</th>\n",
       "      <th>geometry</th>\n",
       "      <th>2005_Greenhouse</th>\n",
       "      <th>2005_Population</th>\n",
       "    </tr>\n",
       "  </thead>\n",
       "  <tbody>\n",
       "    <tr>\n",
       "      <th>0</th>\n",
       "      <td>FJI</td>\n",
       "      <td>MULTIPOLYGON (((180.00000 -16.06713, 180.00000...</td>\n",
       "      <td>1.836070e+03</td>\n",
       "      <td>821606.0</td>\n",
       "    </tr>\n",
       "    <tr>\n",
       "      <th>1</th>\n",
       "      <td>TZA</td>\n",
       "      <td>POLYGON ((33.90371 -0.95000, 34.07262 -1.05982...</td>\n",
       "      <td>2.695590e+05</td>\n",
       "      <td>38450323.0</td>\n",
       "    </tr>\n",
       "    <tr>\n",
       "      <th>2</th>\n",
       "      <td>CAN</td>\n",
       "      <td>MULTIPOLYGON (((-122.84000 49.00000, -122.9742...</td>\n",
       "      <td>8.497987e+05</td>\n",
       "      <td>32243753.0</td>\n",
       "    </tr>\n",
       "    <tr>\n",
       "      <th>3</th>\n",
       "      <td>USA</td>\n",
       "      <td>MULTIPOLYGON (((-122.84000 49.00000, -120.0000...</td>\n",
       "      <td>7.182808e+06</td>\n",
       "      <td>295516599.0</td>\n",
       "    </tr>\n",
       "    <tr>\n",
       "      <th>4</th>\n",
       "      <td>KAZ</td>\n",
       "      <td>POLYGON ((87.35997 49.21498, 86.59878 48.54918...</td>\n",
       "      <td>2.916410e+05</td>\n",
       "      <td>15147029.0</td>\n",
       "    </tr>\n",
       "  </tbody>\n",
       "</table>\n",
       "</div>"
      ],
      "text/plain": [
       "  Country Code                                           geometry  \\\n",
       "0          FJI  MULTIPOLYGON (((180.00000 -16.06713, 180.00000...   \n",
       "1          TZA  POLYGON ((33.90371 -0.95000, 34.07262 -1.05982...   \n",
       "2          CAN  MULTIPOLYGON (((-122.84000 49.00000, -122.9742...   \n",
       "3          USA  MULTIPOLYGON (((-122.84000 49.00000, -120.0000...   \n",
       "4          KAZ  POLYGON ((87.35997 49.21498, 86.59878 48.54918...   \n",
       "\n",
       "   2005_Greenhouse  2005_Population  \n",
       "0     1.836070e+03         821606.0  \n",
       "1     2.695590e+05       38450323.0  \n",
       "2     8.497987e+05       32243753.0  \n",
       "3     7.182808e+06      295516599.0  \n",
       "4     2.916410e+05       15147029.0  "
      ]
     },
     "execution_count": 42,
     "metadata": {},
     "output_type": "execute_result"
    }
   ],
   "source": [
    "new_country =new_country_merge[['Country Code','geometry', '2005_Greenhouse', '2005_Population']]\n",
    "new_country.head()"
   ]
  },
  {
   "cell_type": "markdown",
   "metadata": {},
   "source": [
    "<div class=\"alert alert-block alert-info\">\n",
    "    \n",
    " <span style='font-family:Georgia'>**Choropleth maps of greenhouse gas emission for year 2005, with the countries having populations less than 109856670.**\n",
    "     </div>"
   ]
  },
  {
   "cell_type": "code",
   "execution_count": 43,
   "metadata": {},
   "outputs": [
    {
     "data": {
      "image/png": "[encoded data removed]",
      "text/plain": [
       "<Figure size 1440x432 with 2 Axes>"
      ]
     },
     "metadata": {
      "needs_background": "light"
     },
     "output_type": "display_data"
    }
   ],
   "source": [
    "pop_country=new_country[new_country['2005_Population'] < 109856670]\n",
    "base= world.plot(color='grey', edgecolor= 'black', figsize= (20,6))\n",
    "pop_country.plot(column='2005_Greenhouse',ax=base, cmap='rainbow', legend = True, figsize= (20,6) )\n",
    "plt.title('Year 2005 Greenhouse Gas Emmision for Countries with Population less than 109856670')\n",
    "plt.show()"
   ]
  },
  {
   "cell_type": "markdown",
   "metadata": {},
   "source": [
    "**INTERPRETATION**\n",
    "\n",
    "This choropleth map displays the distribution of greenhouse gas emissions of the year 2005, for nations with a population below 109,856,670. The range of emissions associated with each colour is shown in the map's legend.\n",
    "\n",
    "To show the level of emissions, the countries are coloured uniquely. \n",
    "The highest emission concentrations are indicated on the map as Australia, Germany, Canada, and the Democratic Republic of the Congo, with fading hues from red to orange showing each geographical country. \n",
    "\n",
    "**In contrast, the regions with the lowest emissions levels are mainly in Africa, Europe, South America, and North America. The orange and green colour used to denote these areas' low emission levels.**\n"
   ]
  },
  {
   "cell_type": "markdown",
   "metadata": {},
   "source": [
    "<div class=\"alert alert-block alert-info\">\n",
    "    \n",
    " <span style='font-family:Georgia'>**Choropleth maps of greenhouse gas emission for year 2005, with the countries having populations greater than 236200507.**\n",
    "     </div>"
   ]
  },
  {
   "cell_type": "code",
   "execution_count": 44,
   "metadata": {},
   "outputs": [
    {
     "data": {
      "image/png": "[encoded data removed]",
      "text/plain": [
       "<Figure size 1440x432 with 2 Axes>"
      ]
     },
     "metadata": {
      "needs_background": "light"
     },
     "output_type": "display_data"
    }
   ],
   "source": [
    "pop_country1=new_country[new_country['2005_Population'] > 236200507]\n",
    "base= world.plot(color='grey', edgecolor= 'black', figsize= (20,6))\n",
    "pop_country1.plot(column='2005_Greenhouse', ax= base, cmap='rainbow', legend = True, figsize= (20,6))\n",
    "plt.title('Year 2005 Greenhouse Gas Emmision for Countries with Population greater than 236200507')\n",
    "plt.show()"
   ]
  },
  {
   "cell_type": "markdown",
   "metadata": {},
   "source": [
    "**INTERPRETATION**\n",
    "\n",
    "This choropleth map displays the distribution of greenhouse gas emissions of the year 2005, for nations with a population greater than 236,200,507. The range of emissions associated with each colour is shown in the map's legend.\n",
    "\n",
    "The countries are each coloured distinctively to represent the level of emissions. The visualisation displays China, USA, and India with the highest emission concentrations, and the colours of each country diminishing from red to purple."
   ]
  },
  {
   "cell_type": "markdown",
   "metadata": {},
   "source": [
    "<div class=\"alert alert-block alert-info\">\n",
    "    \n",
    " <span style='font-family:Georgia'>**Choropleth maps of greenhouse gas emission for year 2005, with the countries having population between 842881 and 80890450.**\n",
    "     </div>"
   ]
  },
  {
   "cell_type": "code",
   "execution_count": 45,
   "metadata": {},
   "outputs": [
    {
     "data": {
      "image/png": "[encoded data removed]",
      "text/plain": [
       "<Figure size 1440x432 with 2 Axes>"
      ]
     },
     "metadata": {
      "needs_background": "light"
     },
     "output_type": "display_data"
    }
   ],
   "source": [
    "pop_country2 = new_country[(new_country['2005_Population'] >= 842881) & (new_country['2005_Population'] <= 80890450 )]\n",
    "base= world.plot(color='grey', edgecolor= 'black', figsize= (20,6))\n",
    "pop_country2.plot(column='2005_Greenhouse',ax=base, cmap='rainbow', legend = True, figsize= (20,6) )\n",
    "plt.title('Year 2005 Greenhouse Gas Emmision for Countries with Population between 842881 and 80890450')\n",
    "plt.show()"
   ]
  },
  {
   "cell_type": "markdown",
   "metadata": {},
   "source": [
    "**INTERPRETATION**\n",
    "\n",
    "This choropleth map displays the distribution of greenhouse gas emissions of the year 2005, for nations with a population between 842881 and 80,890,450.The legend of the map displays the range of emissions corresponding to each colour.\n",
    "\n",
    "To show the level of emissions, the countries are coloured uniquely. The highest emission concentrations are indicated on the map as Australia, Canada and Democratic Republic of Congo with fading hues of red.\n",
    "\n",
    "The lowest emmisions are predominantly in Africa, Saudi Arabia, Mongolia, Sweden and Finland."
   ]
  },
  {
   "cell_type": "markdown",
   "metadata": {},
   "source": [
    "<div class=\"alert alert-block alert-info\">\n",
    "    \n",
    " <span style='font-family:Georgia'>**Plot of the percentage change in greenhouse gas emission from 2000 to 2010, for the country that has the highest population in 2010.**</div>"
   ]
  },
  {
   "cell_type": "markdown",
   "metadata": {},
   "source": [
    "<div class=\"alert alert-block alert-info\">\n",
    "    \n",
    " <span style='font-family:Georgia'>**Import the Natural Lowres Path**\n",
    "     </div>"
   ]
  },
  {
   "cell_type": "code",
   "execution_count": 46,
   "metadata": {},
   "outputs": [
    {
     "data": {
      "text/html": [
       "<div>\n",
       "<style scoped>\n",
       "    .dataframe tbody tr th:only-of-type {\n",
       "        vertical-align: middle;\n",
       "    }\n",
       "\n",
       "    .dataframe tbody tr th {\n",
       "        vertical-align: top;\n",
       "    }\n",
       "\n",
       "    .dataframe thead th {\n",
       "        text-align: right;\n",
       "    }\n",
       "</style>\n",
       "<table border=\"1\" class=\"dataframe\">\n",
       "  <thead>\n",
       "    <tr style=\"text-align: right;\">\n",
       "      <th></th>\n",
       "      <th>Country Code</th>\n",
       "    </tr>\n",
       "  </thead>\n",
       "  <tbody>\n",
       "    <tr>\n",
       "      <th>0</th>\n",
       "      <td>FJI</td>\n",
       "    </tr>\n",
       "    <tr>\n",
       "      <th>1</th>\n",
       "      <td>TZA</td>\n",
       "    </tr>\n",
       "    <tr>\n",
       "      <th>2</th>\n",
       "      <td>ESH</td>\n",
       "    </tr>\n",
       "    <tr>\n",
       "      <th>3</th>\n",
       "      <td>CAN</td>\n",
       "    </tr>\n",
       "    <tr>\n",
       "      <th>4</th>\n",
       "      <td>USA</td>\n",
       "    </tr>\n",
       "  </tbody>\n",
       "</table>\n",
       "</div>"
      ],
      "text/plain": [
       "  Country Code\n",
       "0          FJI\n",
       "1          TZA\n",
       "2          ESH\n",
       "3          CAN\n",
       "4          USA"
      ]
     },
     "execution_count": 46,
     "metadata": {},
     "output_type": "execute_result"
    }
   ],
   "source": [
    "### feature selection / filter for relevant columns\n",
    "world = gpd.read_file(gpd.datasets.get_path('naturalearth_lowres'))\n",
    "world.rename(columns={'iso_a3': 'Country Code'}, inplace=True)\n",
    "world= world[['Country Code']]\n",
    "world.head()"
   ]
  },
  {
   "cell_type": "code",
   "execution_count": 47,
   "metadata": {},
   "outputs": [
    {
     "data": {
      "text/html": [
       "<div>\n",
       "<style scoped>\n",
       "    .dataframe tbody tr th:only-of-type {\n",
       "        vertical-align: middle;\n",
       "    }\n",
       "\n",
       "    .dataframe tbody tr th {\n",
       "        vertical-align: top;\n",
       "    }\n",
       "\n",
       "    .dataframe thead th {\n",
       "        text-align: right;\n",
       "    }\n",
       "</style>\n",
       "<table border=\"1\" class=\"dataframe\">\n",
       "  <thead>\n",
       "    <tr style=\"text-align: right;\">\n",
       "      <th></th>\n",
       "      <th>Country Code</th>\n",
       "      <th>Country Name</th>\n",
       "      <th>Indicator Name</th>\n",
       "      <th>Indicator Code</th>\n",
       "      <th>1960</th>\n",
       "      <th>1961</th>\n",
       "      <th>1962</th>\n",
       "      <th>1963</th>\n",
       "      <th>1964</th>\n",
       "      <th>1965</th>\n",
       "      <th>...</th>\n",
       "      <th>2013</th>\n",
       "      <th>2014</th>\n",
       "      <th>2015</th>\n",
       "      <th>2016</th>\n",
       "      <th>2017</th>\n",
       "      <th>2018</th>\n",
       "      <th>2019</th>\n",
       "      <th>2020</th>\n",
       "      <th>2021</th>\n",
       "      <th>Unnamed: 66</th>\n",
       "    </tr>\n",
       "  </thead>\n",
       "  <tbody>\n",
       "    <tr>\n",
       "      <th>0</th>\n",
       "      <td>FJI</td>\n",
       "      <td>Fiji</td>\n",
       "      <td>Population, total</td>\n",
       "      <td>SP.POP.TOTL</td>\n",
       "      <td>393480.0</td>\n",
       "      <td>407244.0</td>\n",
       "      <td>421673.0</td>\n",
       "      <td>436303.0</td>\n",
       "      <td>450538.0</td>\n",
       "      <td>463960.0</td>\n",
       "      <td>...</td>\n",
       "      <td>865602.0</td>\n",
       "      <td>866447.0</td>\n",
       "      <td>868632.0</td>\n",
       "      <td>872406.0</td>\n",
       "      <td>877460.0</td>\n",
       "      <td>883490.0</td>\n",
       "      <td>889955.0</td>\n",
       "      <td>896444.0</td>\n",
       "      <td>902899.0</td>\n",
       "      <td>NaN</td>\n",
       "    </tr>\n",
       "    <tr>\n",
       "      <th>1</th>\n",
       "      <td>TZA</td>\n",
       "      <td>Tanzania</td>\n",
       "      <td>Population, total</td>\n",
       "      <td>SP.POP.TOTL</td>\n",
       "      <td>10052151.0</td>\n",
       "      <td>10346695.0</td>\n",
       "      <td>10651954.0</td>\n",
       "      <td>10968196.0</td>\n",
       "      <td>11295675.0</td>\n",
       "      <td>11634837.0</td>\n",
       "      <td>...</td>\n",
       "      <td>48483132.0</td>\n",
       "      <td>49960563.0</td>\n",
       "      <td>51482638.0</td>\n",
       "      <td>53049231.0</td>\n",
       "      <td>54660345.0</td>\n",
       "      <td>56313444.0</td>\n",
       "      <td>58005461.0</td>\n",
       "      <td>59734213.0</td>\n",
       "      <td>61498438.0</td>\n",
       "      <td>NaN</td>\n",
       "    </tr>\n",
       "    <tr>\n",
       "      <th>2</th>\n",
       "      <td>ESH</td>\n",
       "      <td>NaN</td>\n",
       "      <td>NaN</td>\n",
       "      <td>NaN</td>\n",
       "      <td>NaN</td>\n",
       "      <td>NaN</td>\n",
       "      <td>NaN</td>\n",
       "      <td>NaN</td>\n",
       "      <td>NaN</td>\n",
       "      <td>NaN</td>\n",
       "      <td>...</td>\n",
       "      <td>NaN</td>\n",
       "      <td>NaN</td>\n",
       "      <td>NaN</td>\n",
       "      <td>NaN</td>\n",
       "      <td>NaN</td>\n",
       "      <td>NaN</td>\n",
       "      <td>NaN</td>\n",
       "      <td>NaN</td>\n",
       "      <td>NaN</td>\n",
       "      <td>NaN</td>\n",
       "    </tr>\n",
       "  </tbody>\n",
       "</table>\n",
       "<p>3 rows × 67 columns</p>\n",
       "</div>"
      ],
      "text/plain": [
       "  Country Code Country Name     Indicator Name Indicator Code        1960  \\\n",
       "0          FJI         Fiji  Population, total    SP.POP.TOTL    393480.0   \n",
       "1          TZA     Tanzania  Population, total    SP.POP.TOTL  10052151.0   \n",
       "2          ESH          NaN                NaN            NaN         NaN   \n",
       "\n",
       "         1961        1962        1963        1964        1965  ...  \\\n",
       "0    407244.0    421673.0    436303.0    450538.0    463960.0  ...   \n",
       "1  10346695.0  10651954.0  10968196.0  11295675.0  11634837.0  ...   \n",
       "2         NaN         NaN         NaN         NaN         NaN  ...   \n",
       "\n",
       "         2013        2014        2015        2016        2017        2018  \\\n",
       "0    865602.0    866447.0    868632.0    872406.0    877460.0    883490.0   \n",
       "1  48483132.0  49960563.0  51482638.0  53049231.0  54660345.0  56313444.0   \n",
       "2         NaN         NaN         NaN         NaN         NaN         NaN   \n",
       "\n",
       "         2019        2020        2021  Unnamed: 66  \n",
       "0    889955.0    896444.0    902899.0          NaN  \n",
       "1  58005461.0  59734213.0  61498438.0          NaN  \n",
       "2         NaN         NaN         NaN          NaN  \n",
       "\n",
       "[3 rows x 67 columns]"
      ]
     },
     "execution_count": 47,
     "metadata": {},
     "output_type": "execute_result"
    }
   ],
   "source": [
    "population_df1 = world.merge(population_df,how='left')\n",
    "population_df1.head(3)"
   ]
  },
  {
   "cell_type": "code",
   "execution_count": 48,
   "metadata": {},
   "outputs": [
    {
     "data": {
      "text/plain": [
       "'China'"
      ]
     },
     "execution_count": 48,
     "metadata": {},
     "output_type": "execute_result"
    }
   ],
   "source": [
    "#find the country with highest population in 2010.\n",
    "population_df1.iloc[population_df1['2010'].idxmax()]['Country Name']"
   ]
  },
  {
   "cell_type": "code",
   "execution_count": 49,
   "metadata": {},
   "outputs": [
    {
     "data": {
      "text/html": [
       "<div>\n",
       "<style scoped>\n",
       "    .dataframe tbody tr th:only-of-type {\n",
       "        vertical-align: middle;\n",
       "    }\n",
       "\n",
       "    .dataframe tbody tr th {\n",
       "        vertical-align: top;\n",
       "    }\n",
       "\n",
       "    .dataframe thead th {\n",
       "        text-align: right;\n",
       "    }\n",
       "</style>\n",
       "<table border=\"1\" class=\"dataframe\">\n",
       "  <thead>\n",
       "    <tr style=\"text-align: right;\">\n",
       "      <th></th>\n",
       "      <th>Country Name</th>\n",
       "      <th>Country Code</th>\n",
       "      <th>Indicator Name</th>\n",
       "      <th>Indicator Code</th>\n",
       "      <th>2000</th>\n",
       "      <th>2001</th>\n",
       "      <th>2002</th>\n",
       "      <th>2003</th>\n",
       "      <th>2004</th>\n",
       "      <th>2005</th>\n",
       "      <th>2006</th>\n",
       "      <th>2007</th>\n",
       "      <th>2008</th>\n",
       "      <th>2009</th>\n",
       "      <th>2010</th>\n",
       "    </tr>\n",
       "  </thead>\n",
       "  <tbody>\n",
       "    <tr>\n",
       "      <th>38</th>\n",
       "      <td>China</td>\n",
       "      <td>CHN</td>\n",
       "      <td>Total greenhouse gas emissions (kt of CO2 equi...</td>\n",
       "      <td>EN.ATM.GHGT.KT.CE</td>\n",
       "      <td>5082325.6</td>\n",
       "      <td>5145521.55</td>\n",
       "      <td>5474914.9</td>\n",
       "      <td>6226962.5</td>\n",
       "      <td>7116642.4</td>\n",
       "      <td>7803535.6</td>\n",
       "      <td>8573395.4</td>\n",
       "      <td>9124046.5</td>\n",
       "      <td>10022024.8</td>\n",
       "      <td>10617264.9</td>\n",
       "      <td>11183810.6</td>\n",
       "    </tr>\n",
       "  </tbody>\n",
       "</table>\n",
       "</div>"
      ],
      "text/plain": [
       "   Country Name Country Code  \\\n",
       "38        China          CHN   \n",
       "\n",
       "                                       Indicator Name     Indicator Code  \\\n",
       "38  Total greenhouse gas emissions (kt of CO2 equi...  EN.ATM.GHGT.KT.CE   \n",
       "\n",
       "         2000        2001       2002       2003       2004       2005  \\\n",
       "38  5082325.6  5145521.55  5474914.9  6226962.5  7116642.4  7803535.6   \n",
       "\n",
       "         2006       2007        2008        2009        2010  \n",
       "38  8573395.4  9124046.5  10022024.8  10617264.9  11183810.6  "
      ]
     },
     "execution_count": 49,
     "metadata": {},
     "output_type": "execute_result"
    }
   ],
   "source": [
    "df_china_greenhouse= df.loc[df['Country Code']=='CHN']\n",
    "df_china_greenhouse"
   ]
  },
  {
   "cell_type": "code",
   "execution_count": 50,
   "metadata": {},
   "outputs": [
    {
     "data": {
      "image/png": "[encoded data removed]",
      "text/plain": [
       "<Figure size 864x432 with 1 Axes>"
      ]
     },
     "metadata": {
      "needs_background": "light"
     },
     "output_type": "display_data"
    }
   ],
   "source": [
    "#plotting the % change in greenhouse gas emission from 2000 to 2010\n",
    "plt.rcParams['figure.figsize'] = (12,6)\n",
    "df_china_greenhouse.iloc[:,4:15].pct_change(axis=1).T.plot(kind='line')\n",
    "plt.title('Plot of Percentage Change in Greenhouse Gas Emission from Year 2000 to 2010')\n",
    "plt.xlabel('Year')\n",
    "plt.ylabel('Greenhouse Gas Emission')\n",
    "plt.show()"
   ]
  },
  {
   "cell_type": "markdown",
   "metadata": {},
   "source": [
    "**INTERPRETATION**\n",
    "\n",
    "This line plot displays the percentage change in greenhouse gas emission in China from Year 2000 to 2010 which is important for understanding the overall impact of greenhouse gas emissions on the country. The years included in the analysis are displayed on the x-axis, while the % change in emissions is displayed on the y-axis.\n",
    "\n",
    "The plot shows an increase in emission from 2000 to 2004, which was also the time of its peak. A consistent decrease in emissions from 2004 to 2010 was observed and may indicate the adoption of technology or policies that have reduced emissions.\n",
    "\n"
   ]
  },
  {
   "cell_type": "markdown",
   "metadata": {},
   "source": [
    "<div class=\"alert alert-block alert-info\">\n",
    "    \n",
    " <span style='font-family:Georgia'>**Scatter plot and correlation between the mean population of each country and mean greenhouse gas emission considering from year 2000 until 2010.**\n",
    "     </div>"
   ]
  },
  {
   "cell_type": "markdown",
   "metadata": {},
   "source": [
    "**Inspecting the Columns**"
   ]
  },
  {
   "cell_type": "code",
   "execution_count": 51,
   "metadata": {},
   "outputs": [
    {
     "data": {
      "text/plain": [
       "Index(['Country Code', 'Country Name', 'Indicator Name', 'Indicator Code',\n",
       "       '1960', '1961', '1962', '1963', '1964', '1965', '1966', '1967', '1968',\n",
       "       '1969', '1970', '1971', '1972', '1973', '1974', '1975', '1976', '1977',\n",
       "       '1978', '1979', '1980', '1981', '1982', '1983', '1984', '1985', '1986',\n",
       "       '1987', '1988', '1989', '1990', '1991', '1992', '1993', '1994', '1995',\n",
       "       '1996', '1997', '1998', '1999', '2000', '2001', '2002', '2003', '2004',\n",
       "       '2005', '2006', '2007', '2008', '2009', '2010', '2011', '2012', '2013',\n",
       "       '2014', '2015', '2016', '2017', '2018', '2019', '2020', '2021',\n",
       "       'Unnamed: 66'],\n",
       "      dtype='object')"
      ]
     },
     "execution_count": 51,
     "metadata": {},
     "output_type": "execute_result"
    }
   ],
   "source": [
    "population_df1.columns"
   ]
  },
  {
   "cell_type": "code",
   "execution_count": 52,
   "metadata": {},
   "outputs": [
    {
     "data": {
      "text/plain": [
       "Index(['Country Name', 'Country Code', 'Indicator Name', 'Indicator Code',\n",
       "       '2000', '2001', '2002', '2003', '2004', '2005', '2006', '2007', '2008',\n",
       "       '2009', '2010'],\n",
       "      dtype='object')"
      ]
     },
     "execution_count": 52,
     "metadata": {},
     "output_type": "execute_result"
    }
   ],
   "source": [
    "df.columns"
   ]
  },
  {
   "cell_type": "code",
   "execution_count": 53,
   "metadata": {},
   "outputs": [],
   "source": [
    "columns_ = ['Country Code', 'Country Name', '2000', '2001', '2002', '2003', '2004',\n",
    "       '2005', '2006', '2007', '2008', '2009', '2010']\n",
    "pop_df1 = population_df1[columns_]\n",
    "df_gh = df[columns_]"
   ]
  },
  {
   "cell_type": "code",
   "execution_count": 54,
   "metadata": {},
   "outputs": [
    {
     "data": {
      "text/html": [
       "<div>\n",
       "<style scoped>\n",
       "    .dataframe tbody tr th:only-of-type {\n",
       "        vertical-align: middle;\n",
       "    }\n",
       "\n",
       "    .dataframe tbody tr th {\n",
       "        vertical-align: top;\n",
       "    }\n",
       "\n",
       "    .dataframe thead th {\n",
       "        text-align: right;\n",
       "    }\n",
       "</style>\n",
       "<table border=\"1\" class=\"dataframe\">\n",
       "  <thead>\n",
       "    <tr style=\"text-align: right;\">\n",
       "      <th></th>\n",
       "      <th>Country Code</th>\n",
       "      <th>Country Name</th>\n",
       "      <th>2000</th>\n",
       "      <th>2001</th>\n",
       "      <th>2002</th>\n",
       "      <th>2003</th>\n",
       "      <th>2004</th>\n",
       "      <th>2005</th>\n",
       "      <th>2006</th>\n",
       "      <th>2007</th>\n",
       "      <th>2008</th>\n",
       "      <th>2009</th>\n",
       "      <th>2010</th>\n",
       "    </tr>\n",
       "  </thead>\n",
       "  <tbody>\n",
       "    <tr>\n",
       "      <th>0</th>\n",
       "      <td>FJI</td>\n",
       "      <td>Fiji</td>\n",
       "      <td>811011.0</td>\n",
       "      <td>813923.0</td>\n",
       "      <td>815257.0</td>\n",
       "      <td>816078.0</td>\n",
       "      <td>817864.0</td>\n",
       "      <td>821606.0</td>\n",
       "      <td>827869.0</td>\n",
       "      <td>836185.0</td>\n",
       "      <td>845356.0</td>\n",
       "      <td>853636.0</td>\n",
       "      <td>859816.0</td>\n",
       "    </tr>\n",
       "    <tr>\n",
       "      <th>1</th>\n",
       "      <td>TZA</td>\n",
       "      <td>Tanzania</td>\n",
       "      <td>33499177.0</td>\n",
       "      <td>34385849.0</td>\n",
       "      <td>35334790.0</td>\n",
       "      <td>36337778.0</td>\n",
       "      <td>37379766.0</td>\n",
       "      <td>38450323.0</td>\n",
       "      <td>39548666.0</td>\n",
       "      <td>40681416.0</td>\n",
       "      <td>41853944.0</td>\n",
       "      <td>43073830.0</td>\n",
       "      <td>44346532.0</td>\n",
       "    </tr>\n",
       "  </tbody>\n",
       "</table>\n",
       "</div>"
      ],
      "text/plain": [
       "  Country Code Country Name        2000        2001        2002        2003  \\\n",
       "0          FJI         Fiji    811011.0    813923.0    815257.0    816078.0   \n",
       "1          TZA     Tanzania  33499177.0  34385849.0  35334790.0  36337778.0   \n",
       "\n",
       "         2004        2005        2006        2007        2008        2009  \\\n",
       "0    817864.0    821606.0    827869.0    836185.0    845356.0    853636.0   \n",
       "1  37379766.0  38450323.0  39548666.0  40681416.0  41853944.0  43073830.0   \n",
       "\n",
       "         2010  \n",
       "0    859816.0  \n",
       "1  44346532.0  "
      ]
     },
     "execution_count": 54,
     "metadata": {},
     "output_type": "execute_result"
    }
   ],
   "source": [
    "pop_df1.head(2)"
   ]
  },
  {
   "cell_type": "code",
   "execution_count": 55,
   "metadata": {},
   "outputs": [
    {
     "data": {
      "text/html": [
       "<div>\n",
       "<style scoped>\n",
       "    .dataframe tbody tr th:only-of-type {\n",
       "        vertical-align: middle;\n",
       "    }\n",
       "\n",
       "    .dataframe tbody tr th {\n",
       "        vertical-align: top;\n",
       "    }\n",
       "\n",
       "    .dataframe thead th {\n",
       "        text-align: right;\n",
       "    }\n",
       "</style>\n",
       "<table border=\"1\" class=\"dataframe\">\n",
       "  <thead>\n",
       "    <tr style=\"text-align: right;\">\n",
       "      <th></th>\n",
       "      <th>Country Code</th>\n",
       "      <th>Country Name</th>\n",
       "      <th>2000</th>\n",
       "      <th>2001</th>\n",
       "      <th>2002</th>\n",
       "      <th>2003</th>\n",
       "      <th>2004</th>\n",
       "      <th>2005</th>\n",
       "      <th>2006</th>\n",
       "      <th>2007</th>\n",
       "      <th>2008</th>\n",
       "      <th>2009</th>\n",
       "      <th>2010</th>\n",
       "    </tr>\n",
       "  </thead>\n",
       "  <tbody>\n",
       "    <tr>\n",
       "      <th>0</th>\n",
       "      <td>ABW</td>\n",
       "      <td>Aruba</td>\n",
       "      <td>NaN</td>\n",
       "      <td>NaN</td>\n",
       "      <td>NaN</td>\n",
       "      <td>NaN</td>\n",
       "      <td>NaN</td>\n",
       "      <td>NaN</td>\n",
       "      <td>NaN</td>\n",
       "      <td>NaN</td>\n",
       "      <td>NaN</td>\n",
       "      <td>NaN</td>\n",
       "      <td>NaN</td>\n",
       "    </tr>\n",
       "    <tr>\n",
       "      <th>1</th>\n",
       "      <td>AFG</td>\n",
       "      <td>Afghanistan</td>\n",
       "      <td>13530.953</td>\n",
       "      <td>12585.402</td>\n",
       "      <td>13842.7381</td>\n",
       "      <td>14709.884</td>\n",
       "      <td>14654.374</td>\n",
       "      <td>14770.2643</td>\n",
       "      <td>14849.1594</td>\n",
       "      <td>15272.633</td>\n",
       "      <td>15288.7756</td>\n",
       "      <td>15554.4295</td>\n",
       "      <td>17791.329902</td>\n",
       "    </tr>\n",
       "  </tbody>\n",
       "</table>\n",
       "</div>"
      ],
      "text/plain": [
       "  Country Code Country Name       2000       2001        2002       2003  \\\n",
       "0          ABW        Aruba        NaN        NaN         NaN        NaN   \n",
       "1          AFG  Afghanistan  13530.953  12585.402  13842.7381  14709.884   \n",
       "\n",
       "        2004        2005        2006       2007        2008        2009  \\\n",
       "0        NaN         NaN         NaN        NaN         NaN         NaN   \n",
       "1  14654.374  14770.2643  14849.1594  15272.633  15288.7756  15554.4295   \n",
       "\n",
       "           2010  \n",
       "0           NaN  \n",
       "1  17791.329902  "
      ]
     },
     "execution_count": 55,
     "metadata": {},
     "output_type": "execute_result"
    }
   ],
   "source": [
    "df_gh.head(2)"
   ]
  },
  {
   "cell_type": "code",
   "execution_count": 56,
   "metadata": {},
   "outputs": [
    {
     "data": {
      "text/html": [
       "<div>\n",
       "<style scoped>\n",
       "    .dataframe tbody tr th:only-of-type {\n",
       "        vertical-align: middle;\n",
       "    }\n",
       "\n",
       "    .dataframe tbody tr th {\n",
       "        vertical-align: top;\n",
       "    }\n",
       "\n",
       "    .dataframe thead th {\n",
       "        text-align: right;\n",
       "    }\n",
       "</style>\n",
       "<table border=\"1\" class=\"dataframe\">\n",
       "  <thead>\n",
       "    <tr style=\"text-align: right;\">\n",
       "      <th></th>\n",
       "      <th>Country Code</th>\n",
       "      <th>Country Name</th>\n",
       "      <th>2000</th>\n",
       "      <th>2001</th>\n",
       "      <th>2002</th>\n",
       "      <th>2003</th>\n",
       "      <th>2004</th>\n",
       "      <th>2005</th>\n",
       "      <th>2006</th>\n",
       "      <th>2007</th>\n",
       "      <th>2008</th>\n",
       "      <th>2009</th>\n",
       "      <th>2010</th>\n",
       "    </tr>\n",
       "  </thead>\n",
       "  <tbody>\n",
       "    <tr>\n",
       "      <th>0</th>\n",
       "      <td>FJI</td>\n",
       "      <td>Fiji</td>\n",
       "      <td>1.574685e+03</td>\n",
       "      <td>1.639360e+03</td>\n",
       "      <td>1.806999e+03</td>\n",
       "      <td>1.931688e+03</td>\n",
       "      <td>1.810480e+03</td>\n",
       "      <td>1.836070e+03</td>\n",
       "      <td>1.945971e+03</td>\n",
       "      <td>2.097696e+03</td>\n",
       "      <td>2.123963e+03</td>\n",
       "      <td>2.336075e+03</td>\n",
       "      <td>2.163922e+03</td>\n",
       "    </tr>\n",
       "    <tr>\n",
       "      <th>1</th>\n",
       "      <td>TZA</td>\n",
       "      <td>Tanzania</td>\n",
       "      <td>2.159394e+05</td>\n",
       "      <td>1.967012e+05</td>\n",
       "      <td>1.836621e+05</td>\n",
       "      <td>2.597279e+05</td>\n",
       "      <td>2.213489e+05</td>\n",
       "      <td>2.695590e+05</td>\n",
       "      <td>1.675008e+05</td>\n",
       "      <td>2.022249e+05</td>\n",
       "      <td>2.014045e+05</td>\n",
       "      <td>2.314563e+05</td>\n",
       "      <td>2.341472e+05</td>\n",
       "    </tr>\n",
       "    <tr>\n",
       "      <th>2</th>\n",
       "      <td>ESH</td>\n",
       "      <td>NaN</td>\n",
       "      <td>NaN</td>\n",
       "      <td>NaN</td>\n",
       "      <td>NaN</td>\n",
       "      <td>NaN</td>\n",
       "      <td>NaN</td>\n",
       "      <td>NaN</td>\n",
       "      <td>NaN</td>\n",
       "      <td>NaN</td>\n",
       "      <td>NaN</td>\n",
       "      <td>NaN</td>\n",
       "      <td>NaN</td>\n",
       "    </tr>\n",
       "    <tr>\n",
       "      <th>3</th>\n",
       "      <td>CAN</td>\n",
       "      <td>Canada</td>\n",
       "      <td>7.606430e+05</td>\n",
       "      <td>7.185345e+05</td>\n",
       "      <td>9.086862e+05</td>\n",
       "      <td>9.513730e+05</td>\n",
       "      <td>1.040137e+06</td>\n",
       "      <td>8.497987e+05</td>\n",
       "      <td>8.949226e+05</td>\n",
       "      <td>8.920668e+05</td>\n",
       "      <td>9.089260e+05</td>\n",
       "      <td>7.498637e+05</td>\n",
       "      <td>7.641377e+05</td>\n",
       "    </tr>\n",
       "    <tr>\n",
       "      <th>4</th>\n",
       "      <td>USA</td>\n",
       "      <td>United States</td>\n",
       "      <td>6.969124e+06</td>\n",
       "      <td>6.821236e+06</td>\n",
       "      <td>6.981787e+06</td>\n",
       "      <td>6.991255e+06</td>\n",
       "      <td>7.244272e+06</td>\n",
       "      <td>7.182808e+06</td>\n",
       "      <td>6.994087e+06</td>\n",
       "      <td>7.128952e+06</td>\n",
       "      <td>6.648991e+06</td>\n",
       "      <td>6.604069e+06</td>\n",
       "      <td>6.713349e+06</td>\n",
       "    </tr>\n",
       "  </tbody>\n",
       "</table>\n",
       "</div>"
      ],
      "text/plain": [
       "  Country Code   Country Name          2000          2001          2002  \\\n",
       "0          FJI           Fiji  1.574685e+03  1.639360e+03  1.806999e+03   \n",
       "1          TZA       Tanzania  2.159394e+05  1.967012e+05  1.836621e+05   \n",
       "2          ESH            NaN           NaN           NaN           NaN   \n",
       "3          CAN         Canada  7.606430e+05  7.185345e+05  9.086862e+05   \n",
       "4          USA  United States  6.969124e+06  6.821236e+06  6.981787e+06   \n",
       "\n",
       "           2003          2004          2005          2006          2007  \\\n",
       "0  1.931688e+03  1.810480e+03  1.836070e+03  1.945971e+03  2.097696e+03   \n",
       "1  2.597279e+05  2.213489e+05  2.695590e+05  1.675008e+05  2.022249e+05   \n",
       "2           NaN           NaN           NaN           NaN           NaN   \n",
       "3  9.513730e+05  1.040137e+06  8.497987e+05  8.949226e+05  8.920668e+05   \n",
       "4  6.991255e+06  7.244272e+06  7.182808e+06  6.994087e+06  7.128952e+06   \n",
       "\n",
       "           2008          2009          2010  \n",
       "0  2.123963e+03  2.336075e+03  2.163922e+03  \n",
       "1  2.014045e+05  2.314563e+05  2.341472e+05  \n",
       "2           NaN           NaN           NaN  \n",
       "3  9.089260e+05  7.498637e+05  7.641377e+05  \n",
       "4  6.648991e+06  6.604069e+06  6.713349e+06  "
      ]
     },
     "execution_count": 56,
     "metadata": {},
     "output_type": "execute_result"
    }
   ],
   "source": [
    "#merging the natural earht lowres dataset and the emission dataset\n",
    "df_greenhouse_emision= pd.DataFrame(world).merge(df_gh,how='left')\n",
    "df_greenhouse_emision.head()"
   ]
  },
  {
   "cell_type": "code",
   "execution_count": 57,
   "metadata": {},
   "outputs": [
    {
     "name": "stderr",
     "output_type": "stream",
     "text": [
      "C:\\Anaconda3\\lib\\site-packages\\pandas\\core\\generic.py:6245: SettingWithCopyWarning: \n",
      "A value is trying to be set on a copy of a slice from a DataFrame\n",
      "\n",
      "See the caveats in the documentation: https://pandas.pydata.org/pandas-docs/stable/user_guide/indexing.html#returning-a-view-versus-a-copy\n",
      "  self._update_inplace(new_data)\n"
     ]
    }
   ],
   "source": [
    "#filling the null values with median.\n",
    "df_greenhouse_emision[['2000', '2001', '2002', '2003', '2004', '2005', '2006', '2007', '2008', '2009', '2010']].fillna(df_greenhouse_emision[['2000', '2001', '2002', '2003', '2004', '2005', '2006', '2007', '2008', '2009', '2010']].median(), inplace=True)\n"
   ]
  },
  {
   "cell_type": "code",
   "execution_count": 58,
   "metadata": {},
   "outputs": [
    {
     "name": "stderr",
     "output_type": "stream",
     "text": [
      "C:\\Anaconda3\\lib\\site-packages\\ipykernel_launcher.py:2: SettingWithCopyWarning: \n",
      "A value is trying to be set on a copy of a slice from a DataFrame.\n",
      "Try using .loc[row_indexer,col_indexer] = value instead\n",
      "\n",
      "See the caveats in the documentation: https://pandas.pydata.org/pandas-docs/stable/user_guide/indexing.html#returning-a-view-versus-a-copy\n",
      "  \n"
     ]
    }
   ],
   "source": [
    "#assigning the mean of the gas emission and population datasets to a variable\n",
    "pop_df1['mean']= pop_df1.mean(axis=1)\n",
    "\n",
    "df_greenhouse_emision['mean']= df_greenhouse_emision.mean(axis=1)"
   ]
  },
  {
   "cell_type": "code",
   "execution_count": 59,
   "metadata": {},
   "outputs": [
    {
     "data": {
      "image/png": "[encoded data removed]",
      "text/plain": [
       "<Figure size 864x432 with 1 Axes>"
      ]
     },
     "metadata": {
      "needs_background": "light"
     },
     "output_type": "display_data"
    }
   ],
   "source": [
    "#plotting for the mean population and greenhouse gas emission from 2000 to 2010\n",
    "plt.scatter(pop_df1['mean'], df_greenhouse_emision['mean'])\n",
    "plt.title('Plot of the Mean Population and Mean Greenhouse Gas Emission from Year 2000 to 2010')\n",
    "plt.xlabel('Mean Population')\n",
    "plt.ylabel('Mean Greenhouse Gas Emission')\n",
    "plt.show()"
   ]
  },
  {
   "cell_type": "markdown",
   "metadata": {},
   "source": [
    "<div class=\"alert alert-block alert-info\">\n",
    "    \n",
    " <span style='font-family:Georgia'>**Getting Correlation**\n",
    "     </div>"
   ]
  },
  {
   "cell_type": "code",
   "execution_count": 60,
   "metadata": {},
   "outputs": [
    {
     "name": "stdout",
     "output_type": "stream",
     "text": [
      "Correlation coefficient: 0.76\n"
     ]
    }
   ],
   "source": [
    "pop_mean = pop_df1['mean']\n",
    "emission_mean = df_greenhouse_emision['mean']\n",
    "\n",
    "#concatenating the gas emission and population mean\n",
    "meanpopemision = pd.concat([pop_mean, emission_mean], axis = 1) \n",
    "\n",
    "#correlation\n",
    "meanpopemision.corr()\n",
    "meanpopemision = meanpopemision.corr().iloc[1,0]\n",
    "#print('Correlation coefficient:', meanpopemision.corr().iloc[1,0])\n",
    "\n",
    "#approximate to 2 decimal places\n",
    "meanpopemision = round(meanpopemision, 2)\n",
    "print('Correlation coefficient:', meanpopemision)\n"
   ]
  },
  {
   "cell_type": "markdown",
   "metadata": {},
   "source": [
    "**INTERPRETATION**\n",
    "\n",
    "The visualization above displays the mean green house gas emmision and mean population of the various countries within the dataset. Few countries have extremely hign mean emmision and population and these are the outliers within the scatter plot.\n",
    "Further analysis shows a strong positive correlation with Coefficient of **0.76**. This means that as the population increases, the green gas emission tends to increase as well and vice versa."
   ]
  },
  {
   "cell_type": "markdown",
   "metadata": {},
   "source": [
    "**Since majority of the scatter points have green house gas emmision of 3,000,000 and below, I will remove the outliers above this value. Removing outliers can significantly affect the estimates of the correlation coefficient**\n",
    "\n",
    "**The outliers must be got rid of to widen the clustered points for better display, which will make the scatter plot clearer to read and understand while we also check its correlation.**"
   ]
  },
  {
   "cell_type": "markdown",
   "metadata": {},
   "source": [
    "<div class=\"alert alert-block alert-info\">\n",
    "    \n",
    " <span style='font-family:Georgia'>**Removing Outliers**\n",
    "     </div>"
   ]
  },
  {
   "cell_type": "markdown",
   "metadata": {},
   "source": [
    "**I plan to load the Numpy library, compute the z-score for each data point, and then give each one a threshold value that will be used to filter out data points with a higher threshold.**"
   ]
  },
  {
   "cell_type": "code",
   "execution_count": 61,
   "metadata": {},
   "outputs": [
    {
     "data": {
      "image/png": "[encoded data removed]",
      "text/plain": [
       "<Figure size 864x432 with 1 Axes>"
      ]
     },
     "metadata": {
      "needs_background": "light"
     },
     "output_type": "display_data"
    }
   ],
   "source": [
    "import numpy as np\n",
    "\n",
    "#Calculate z-score for each data point\n",
    "z_scores = np.abs((pop_mean - pop_mean.mean()) / pop_mean.std())\n",
    "threshold = 1.8\n",
    "\n",
    "#Filter out the data points that have z-score greater than the threshold\n",
    "pop_filtered = pop_mean[z_scores < threshold]\n",
    "emission_filtered = emission_mean[z_scores < threshold]\n",
    "\n",
    "#plotting the scatter plot\n",
    "plt.scatter(pop_filtered, emission_filtered)\n",
    "plt.title('Plot of the Mean Population and Mean Greenhouse Gas Emission from Year 2000 to 2010')\n",
    "plt.xlabel('Mean Population')\n",
    "plt.ylabel('Mean Greenhouse Gas Emission')\n",
    "plt.show()"
   ]
  },
  {
   "cell_type": "markdown",
   "metadata": {},
   "source": [
    "<div class=\"alert alert-block alert-info\">\n",
    "    \n",
    " <span style='font-family:Georgia'>**Getting Correlation without Outliers**\n",
    "     </div>"
   ]
  },
  {
   "cell_type": "code",
   "execution_count": 62,
   "metadata": {},
   "outputs": [
    {
     "name": "stdout",
     "output_type": "stream",
     "text": [
      "Correlation coefficient without Outliers 0.71\n"
     ]
    }
   ],
   "source": [
    "#concatenating the filtered emission and population mean\n",
    "meanpopemisionnew = pd.concat([pop_filtered, emission_filtered], axis = 1)\n",
    "\n",
    "#correlation\n",
    "meanpopemisionnew.corr()\n",
    "meanpopemisionnew = meanpopemisionnew.corr().iloc[1,0]\n",
    "\n",
    "#approximate to 2 decimal places\n",
    "meanpopemisionnew = round(meanpopemisionnew, 2)\n",
    "print('Correlation coefficient without Outliers', meanpopemisionnew)"
   ]
  },
  {
   "cell_type": "markdown",
   "metadata": {},
   "source": [
    "**INTERPRETATION**\n",
    "\n",
    "The visualization above displays the mean green house gas emmision and mean population after outliers have been removed within the dataset.\n",
    "\n",
    "Additional investigation reveals a strong positive correlation with a Coefficient of **0.71**. This indicates that, generally speaking, as population grows, so does greenhouse gas emissions, and vice versa. This correlation is not far from the initial correlation of 0.76 when the dataset contained outliers.\n",
    "\n",
    "However, we cannot infer from this relationship alone that an increase in population leads to an increase in greenhouse gas emissions, or vice versa. Other factors may be contributing to the relationship, and further analysis is needed to understand the nature of the relationship between these variables."
   ]
  },
  {
   "cell_type": "code",
   "execution_count": null,
   "metadata": {},
   "outputs": [],
   "source": []
  }
 ],
 "metadata": {
  "kernelspec": {
   "display_name": "Python 3",
   "language": "python",
   "name": "python3"
  },
  "language_info": {
   "codemirror_mode": {
    "name": "ipython",
    "version": 3
   },
   "file_extension": ".py",
   "mimetype": "text/x-python",
   "name": "python",
   "nbconvert_exporter": "python",
   "pygments_lexer": "ipython3",
   "version": "3.7.4"
  }
 },
 "nbformat": 4,
 "nbformat_minor": 4
}
